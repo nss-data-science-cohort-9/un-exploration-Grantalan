{
 "cells": [
  {
   "cell_type": "code",
   "execution_count": 1,
   "id": "36cf0675-b42c-409d-9b0a-29b4027d71ab",
   "metadata": {},
   "outputs": [],
   "source": [
    "import pandas as pd   \n",
    "import numpy as np\n",
    "import matplotlib.pyplot as plt  \n",
    "import seaborn as sns"
   ]
  },
  {
   "cell_type": "raw",
   "id": "e0b3aaa4-3ad3-4e76-969f-0ca5ca926432",
   "metadata": {},
   "source": [
    "## An Exploration of UN data\n",
    "In this project, you'll be doing some exploratory analysis on two country-level metrics, gross domestic product (GDP) per capita and overall life expectancy. After completing the guided practice section, you will have a chance to find some additional data and do some more exploring of your own.\n",
    "\n",
    "### Guided Practice:\n",
    " 1.\tDownload the Gross Domestic Product (GDP) per capita dataset from [http://data.un.org/Data.aspx?d=WDI&f=Indicator_Code%3aNY.GDP.PCAP.PP.KD](http://data.un.org/Data.aspx?d=WDI&f=Indicator_Code%3aNY.GDP.PCAP.PP.KD). Rename it to gdp_per_capita.csv and place it in the `data` folder of your project repository.\n",
    "\n",
    "2. Create a Jupyter Notebook in the `notebooks` folder and name it `UN_Data_Exploration`.\n",
    "    *  You are likely to get errors along the way. When you do, read the errors to try to understand what is happening and how to correct it.\n",
    "    * Use markdown cells to record your answers to any questions asked in this exercise. On the menu bar, you can toggle the cell type from 'Code' to 'Markdown'. [Here](https://www.markdownguide.org/cheat-sheet/) is a link to a cheat sheet showing the basics of styling text using Markdown.\n",
    "\n",
    "3.\tIn the first cell of your notebook, import the required packages with their customary aliases as follows:\n",
    "\n",
    "    `import pandas as pd`   \n",
    "    `import numpy as np`  \n",
    "    `import matplotlib.pyplot as plt`  \n",
    "    `import seaborn as sns`\n",
    "    \n",
    "    Keep all imports in this cell at the top of your notebook."
   ]
  },
  {
   "cell_type": "raw",
   "id": "12cf1b7f-1cd8-489c-9ea3-c8f5e353f9b8",
   "metadata": {},
   "source": [
    "4.\tUsing the pandas `read_csv()` function, read the GDP dataset into your notebook as a DataFrame called `gdp_df`. After reading it in, inspect the first 10 rows and then inspect the last 10 rows. "
   ]
  },
  {
   "cell_type": "code",
   "execution_count": 2,
   "id": "49a28cff-fa3a-4f14-91ad-dec1e61af84b",
   "metadata": {},
   "outputs": [],
   "source": [
    "gdp_df = pd.read_csv('../data/gdp_per_capita.csv')"
   ]
  },
  {
   "cell_type": "code",
   "execution_count": 3,
   "id": "cbbb39b7-284e-4677-b685-7933c1cabb87",
   "metadata": {},
   "outputs": [
    {
     "data": {
      "text/html": [
       "<div>\n",
       "<style scoped>\n",
       "    .dataframe tbody tr th:only-of-type {\n",
       "        vertical-align: middle;\n",
       "    }\n",
       "\n",
       "    .dataframe tbody tr th {\n",
       "        vertical-align: top;\n",
       "    }\n",
       "\n",
       "    .dataframe thead th {\n",
       "        text-align: right;\n",
       "    }\n",
       "</style>\n",
       "<table border=\"1\" class=\"dataframe\">\n",
       "  <thead>\n",
       "    <tr style=\"text-align: right;\">\n",
       "      <th></th>\n",
       "      <th>Country or Area</th>\n",
       "      <th>Year</th>\n",
       "      <th>Value</th>\n",
       "      <th>Value Footnotes</th>\n",
       "    </tr>\n",
       "  </thead>\n",
       "  <tbody>\n",
       "    <tr>\n",
       "      <th>0</th>\n",
       "      <td>Afghanistan</td>\n",
       "      <td>2023</td>\n",
       "      <td>1992.424394</td>\n",
       "      <td>NaN</td>\n",
       "    </tr>\n",
       "    <tr>\n",
       "      <th>1</th>\n",
       "      <td>Afghanistan</td>\n",
       "      <td>2022</td>\n",
       "      <td>1981.710168</td>\n",
       "      <td>NaN</td>\n",
       "    </tr>\n",
       "    <tr>\n",
       "      <th>2</th>\n",
       "      <td>Afghanistan</td>\n",
       "      <td>2021</td>\n",
       "      <td>2144.166570</td>\n",
       "      <td>NaN</td>\n",
       "    </tr>\n",
       "    <tr>\n",
       "      <th>3</th>\n",
       "      <td>Afghanistan</td>\n",
       "      <td>2020</td>\n",
       "      <td>2769.685745</td>\n",
       "      <td>NaN</td>\n",
       "    </tr>\n",
       "    <tr>\n",
       "      <th>4</th>\n",
       "      <td>Afghanistan</td>\n",
       "      <td>2019</td>\n",
       "      <td>2927.245144</td>\n",
       "      <td>NaN</td>\n",
       "    </tr>\n",
       "    <tr>\n",
       "      <th>5</th>\n",
       "      <td>Afghanistan</td>\n",
       "      <td>2018</td>\n",
       "      <td>2902.392113</td>\n",
       "      <td>NaN</td>\n",
       "    </tr>\n",
       "    <tr>\n",
       "      <th>6</th>\n",
       "      <td>Afghanistan</td>\n",
       "      <td>2017</td>\n",
       "      <td>2952.998916</td>\n",
       "      <td>NaN</td>\n",
       "    </tr>\n",
       "    <tr>\n",
       "      <th>7</th>\n",
       "      <td>Afghanistan</td>\n",
       "      <td>2016</td>\n",
       "      <td>2958.785399</td>\n",
       "      <td>NaN</td>\n",
       "    </tr>\n",
       "    <tr>\n",
       "      <th>8</th>\n",
       "      <td>Afghanistan</td>\n",
       "      <td>2015</td>\n",
       "      <td>2967.692067</td>\n",
       "      <td>NaN</td>\n",
       "    </tr>\n",
       "    <tr>\n",
       "      <th>9</th>\n",
       "      <td>Afghanistan</td>\n",
       "      <td>2014</td>\n",
       "      <td>3017.942544</td>\n",
       "      <td>NaN</td>\n",
       "    </tr>\n",
       "  </tbody>\n",
       "</table>\n",
       "</div>"
      ],
      "text/plain": [
       "  Country or Area  Year        Value  Value Footnotes\n",
       "0     Afghanistan  2023  1992.424394              NaN\n",
       "1     Afghanistan  2022  1981.710168              NaN\n",
       "2     Afghanistan  2021  2144.166570              NaN\n",
       "3     Afghanistan  2020  2769.685745              NaN\n",
       "4     Afghanistan  2019  2927.245144              NaN\n",
       "5     Afghanistan  2018  2902.392113              NaN\n",
       "6     Afghanistan  2017  2952.998916              NaN\n",
       "7     Afghanistan  2016  2958.785399              NaN\n",
       "8     Afghanistan  2015  2967.692067              NaN\n",
       "9     Afghanistan  2014  3017.942544              NaN"
      ]
     },
     "execution_count": 3,
     "metadata": {},
     "output_type": "execute_result"
    }
   ],
   "source": [
    "gdp_df.head(10)"
   ]
  },
  {
   "cell_type": "code",
   "execution_count": 4,
   "id": "e86a3089-f93c-4d8d-8770-ce34b1d2d491",
   "metadata": {},
   "outputs": [
    {
     "data": {
      "text/html": [
       "<div>\n",
       "<style scoped>\n",
       "    .dataframe tbody tr th:only-of-type {\n",
       "        vertical-align: middle;\n",
       "    }\n",
       "\n",
       "    .dataframe tbody tr th {\n",
       "        vertical-align: top;\n",
       "    }\n",
       "\n",
       "    .dataframe thead th {\n",
       "        text-align: right;\n",
       "    }\n",
       "</style>\n",
       "<table border=\"1\" class=\"dataframe\">\n",
       "  <thead>\n",
       "    <tr style=\"text-align: right;\">\n",
       "      <th></th>\n",
       "      <th>Country or Area</th>\n",
       "      <th>Year</th>\n",
       "      <th>Value</th>\n",
       "      <th>Value Footnotes</th>\n",
       "    </tr>\n",
       "  </thead>\n",
       "  <tbody>\n",
       "    <tr>\n",
       "      <th>8209</th>\n",
       "      <td>Zimbabwe</td>\n",
       "      <td>1999</td>\n",
       "      <td>4238.195198</td>\n",
       "      <td>NaN</td>\n",
       "    </tr>\n",
       "    <tr>\n",
       "      <th>8210</th>\n",
       "      <td>Zimbabwe</td>\n",
       "      <td>1998</td>\n",
       "      <td>4342.858177</td>\n",
       "      <td>NaN</td>\n",
       "    </tr>\n",
       "    <tr>\n",
       "      <th>8211</th>\n",
       "      <td>Zimbabwe</td>\n",
       "      <td>1997</td>\n",
       "      <td>4304.406272</td>\n",
       "      <td>NaN</td>\n",
       "    </tr>\n",
       "    <tr>\n",
       "      <th>8212</th>\n",
       "      <td>Zimbabwe</td>\n",
       "      <td>1996</td>\n",
       "      <td>4271.479930</td>\n",
       "      <td>NaN</td>\n",
       "    </tr>\n",
       "    <tr>\n",
       "      <th>8213</th>\n",
       "      <td>Zimbabwe</td>\n",
       "      <td>1995</td>\n",
       "      <td>3935.280057</td>\n",
       "      <td>NaN</td>\n",
       "    </tr>\n",
       "    <tr>\n",
       "      <th>8214</th>\n",
       "      <td>Zimbabwe</td>\n",
       "      <td>1994</td>\n",
       "      <td>3965.730986</td>\n",
       "      <td>NaN</td>\n",
       "    </tr>\n",
       "    <tr>\n",
       "      <th>8215</th>\n",
       "      <td>Zimbabwe</td>\n",
       "      <td>1993</td>\n",
       "      <td>3634.750494</td>\n",
       "      <td>NaN</td>\n",
       "    </tr>\n",
       "    <tr>\n",
       "      <th>8216</th>\n",
       "      <td>Zimbabwe</td>\n",
       "      <td>1992</td>\n",
       "      <td>3649.891947</td>\n",
       "      <td>NaN</td>\n",
       "    </tr>\n",
       "    <tr>\n",
       "      <th>8217</th>\n",
       "      <td>Zimbabwe</td>\n",
       "      <td>1991</td>\n",
       "      <td>4126.405247</td>\n",
       "      <td>NaN</td>\n",
       "    </tr>\n",
       "    <tr>\n",
       "      <th>8218</th>\n",
       "      <td>Zimbabwe</td>\n",
       "      <td>1990</td>\n",
       "      <td>4013.299059</td>\n",
       "      <td>NaN</td>\n",
       "    </tr>\n",
       "  </tbody>\n",
       "</table>\n",
       "</div>"
      ],
      "text/plain": [
       "     Country or Area  Year        Value  Value Footnotes\n",
       "8209        Zimbabwe  1999  4238.195198              NaN\n",
       "8210        Zimbabwe  1998  4342.858177              NaN\n",
       "8211        Zimbabwe  1997  4304.406272              NaN\n",
       "8212        Zimbabwe  1996  4271.479930              NaN\n",
       "8213        Zimbabwe  1995  3935.280057              NaN\n",
       "8214        Zimbabwe  1994  3965.730986              NaN\n",
       "8215        Zimbabwe  1993  3634.750494              NaN\n",
       "8216        Zimbabwe  1992  3649.891947              NaN\n",
       "8217        Zimbabwe  1991  4126.405247              NaN\n",
       "8218        Zimbabwe  1990  4013.299059              NaN"
      ]
     },
     "execution_count": 4,
     "metadata": {},
     "output_type": "execute_result"
    }
   ],
   "source": [
    "gdp_df.tail(10)"
   ]
  },
  {
   "cell_type": "raw",
   "id": "9a28bcac-460f-4769-917a-c7036c264f4c",
   "metadata": {},
   "source": [
    "5. Drop the 'Value Footnotes' column, and rename the remaining columns to 'Country', 'Year', and 'GDP_Per_Capita'."
   ]
  },
  {
   "cell_type": "code",
   "execution_count": 5,
   "id": "51817451-6780-4e02-854d-54fea9b488a6",
   "metadata": {},
   "outputs": [
    {
     "data": {
      "text/html": [
       "<div>\n",
       "<style scoped>\n",
       "    .dataframe tbody tr th:only-of-type {\n",
       "        vertical-align: middle;\n",
       "    }\n",
       "\n",
       "    .dataframe tbody tr th {\n",
       "        vertical-align: top;\n",
       "    }\n",
       "\n",
       "    .dataframe thead th {\n",
       "        text-align: right;\n",
       "    }\n",
       "</style>\n",
       "<table border=\"1\" class=\"dataframe\">\n",
       "  <thead>\n",
       "    <tr style=\"text-align: right;\">\n",
       "      <th></th>\n",
       "      <th>Year</th>\n",
       "      <th>Value</th>\n",
       "      <th>Value Footnotes</th>\n",
       "    </tr>\n",
       "  </thead>\n",
       "  <tbody>\n",
       "    <tr>\n",
       "      <th>count</th>\n",
       "      <td>8219.000000</td>\n",
       "      <td>8219.000000</td>\n",
       "      <td>0.0</td>\n",
       "    </tr>\n",
       "    <tr>\n",
       "      <th>mean</th>\n",
       "      <td>2006.672345</td>\n",
       "      <td>20270.976242</td>\n",
       "      <td>NaN</td>\n",
       "    </tr>\n",
       "    <tr>\n",
       "      <th>std</th>\n",
       "      <td>9.782986</td>\n",
       "      <td>22532.004246</td>\n",
       "      <td>NaN</td>\n",
       "    </tr>\n",
       "    <tr>\n",
       "      <th>min</th>\n",
       "      <td>1990.000000</td>\n",
       "      <td>510.822823</td>\n",
       "      <td>NaN</td>\n",
       "    </tr>\n",
       "    <tr>\n",
       "      <th>25%</th>\n",
       "      <td>1998.000000</td>\n",
       "      <td>4284.868430</td>\n",
       "      <td>NaN</td>\n",
       "    </tr>\n",
       "    <tr>\n",
       "      <th>50%</th>\n",
       "      <td>2007.000000</td>\n",
       "      <td>11916.457927</td>\n",
       "      <td>NaN</td>\n",
       "    </tr>\n",
       "    <tr>\n",
       "      <th>75%</th>\n",
       "      <td>2015.000000</td>\n",
       "      <td>28543.305542</td>\n",
       "      <td>NaN</td>\n",
       "    </tr>\n",
       "    <tr>\n",
       "      <th>max</th>\n",
       "      <td>2023.000000</td>\n",
       "      <td>174339.077325</td>\n",
       "      <td>NaN</td>\n",
       "    </tr>\n",
       "  </tbody>\n",
       "</table>\n",
       "</div>"
      ],
      "text/plain": [
       "              Year          Value  Value Footnotes\n",
       "count  8219.000000    8219.000000              0.0\n",
       "mean   2006.672345   20270.976242              NaN\n",
       "std       9.782986   22532.004246              NaN\n",
       "min    1990.000000     510.822823              NaN\n",
       "25%    1998.000000    4284.868430              NaN\n",
       "50%    2007.000000   11916.457927              NaN\n",
       "75%    2015.000000   28543.305542              NaN\n",
       "max    2023.000000  174339.077325              NaN"
      ]
     },
     "execution_count": 5,
     "metadata": {},
     "output_type": "execute_result"
    }
   ],
   "source": [
    "# View original column names\n",
    "gdp_df.describe()"
   ]
  },
  {
   "cell_type": "code",
   "execution_count": 6,
   "id": "12aedfe4-48d7-474c-a2e1-b396e8b39971",
   "metadata": {},
   "outputs": [],
   "source": [
    "gdp_df = gdp_df.drop(columns = 'Value Footnotes')"
   ]
  },
  {
   "cell_type": "code",
   "execution_count": 7,
   "id": "3c317503-244c-4bd4-8892-36adae705945",
   "metadata": {},
   "outputs": [],
   "source": [
    "rename_mapping = {'Country or Area': 'Country',\n",
    "                  'Year': 'Year',\n",
    "                  'Value': 'GDP Per Capita'}"
   ]
  },
  {
   "cell_type": "code",
   "execution_count": 8,
   "id": "0bc833c1-3f83-4085-ab81-2b699f5ff450",
   "metadata": {},
   "outputs": [],
   "source": [
    "gdp_df = gdp_df.rename(columns=rename_mapping)"
   ]
  },
  {
   "cell_type": "raw",
   "id": "468be58e-ab49-46f2-8cc4-25072dd1e0e4",
   "metadata": {},
   "source": [
    "6. How many rows and columns does gdp_df have? What are the data types of its columns? If any of the columns are not the expected types, figure out why and fix it."
   ]
  },
  {
   "cell_type": "markdown",
   "id": "2e660830-c3e9-4847-a817-de6eff4a2b36",
   "metadata": {},
   "source": [
    "There are 8219 rows and 3 columns. Data types are objects, integers and floats."
   ]
  },
  {
   "cell_type": "code",
   "execution_count": 9,
   "id": "b5ffdeab-83e5-4bd3-95c2-e73d7f8818e3",
   "metadata": {},
   "outputs": [
    {
     "data": {
      "text/plain": [
       "(8219, 3)"
      ]
     },
     "execution_count": 9,
     "metadata": {},
     "output_type": "execute_result"
    }
   ],
   "source": [
    "gdp_df.shape"
   ]
  },
  {
   "cell_type": "code",
   "execution_count": 10,
   "id": "6f29c7fe-13e6-4fc1-94d3-41d5e3bba3d0",
   "metadata": {},
   "outputs": [
    {
     "name": "stdout",
     "output_type": "stream",
     "text": [
      "<class 'pandas.core.frame.DataFrame'>\n",
      "RangeIndex: 8219 entries, 0 to 8218\n",
      "Data columns (total 3 columns):\n",
      " #   Column          Non-Null Count  Dtype  \n",
      "---  ------          --------------  -----  \n",
      " 0   Country         8219 non-null   object \n",
      " 1   Year            8219 non-null   int64  \n",
      " 2   GDP Per Capita  8219 non-null   float64\n",
      "dtypes: float64(1), int64(1), object(1)\n",
      "memory usage: 192.8+ KB\n"
     ]
    }
   ],
   "source": [
    "gdp_df.info()"
   ]
  },
  {
   "cell_type": "raw",
   "id": "9a96a31f-762c-4251-9653-74ddaf9e6073",
   "metadata": {},
   "source": [
    "7. Which years are represented in this dataset? Take a look at the number of observations per year. What do you notice?"
   ]
  },
  {
   "cell_type": "markdown",
   "id": "b64f3809-fc38-4778-8ef9-677d0ae540da",
   "metadata": {},
   "source": [
    "There are between 233 and 247 observation for all 34 unique years recorded."
   ]
  },
  {
   "cell_type": "code",
   "execution_count": 11,
   "id": "7a54b711-7128-4f27-90ad-b87508580694",
   "metadata": {},
   "outputs": [
    {
     "data": {
      "text/plain": [
       "np.int64(34)"
      ]
     },
     "execution_count": 11,
     "metadata": {},
     "output_type": "execute_result"
    }
   ],
   "source": [
    "gdp_df.value_counts('Year').count()"
   ]
  },
  {
   "cell_type": "code",
   "execution_count": 12,
   "id": "aab2f6e0-8d53-4d1b-934d-714fd1ef9b1c",
   "metadata": {},
   "outputs": [
    {
     "data": {
      "text/plain": [
       "Year\n",
       "2014    247\n",
       "2021    247\n",
       "2020    247\n",
       "2019    247\n",
       "2018    247\n",
       "2017    247\n",
       "2016    247\n",
       "2015    247\n",
       "2013    247\n",
       "2012    246\n",
       "2022    246\n",
       "2011    246\n",
       "2009    245\n",
       "2010    245\n",
       "2008    244\n",
       "2006    242\n",
       "2007    242\n",
       "2004    241\n",
       "2005    241\n",
       "2003    241\n",
       "2002    241\n",
       "2023    240\n",
       "2001    240\n",
       "2000    240\n",
       "1999    238\n",
       "1998    238\n",
       "1997    238\n",
       "1996    236\n",
       "1995    236\n",
       "1994    235\n",
       "1991    234\n",
       "1993    234\n",
       "1992    234\n",
       "1990    233\n",
       "Name: count, dtype: int64"
      ]
     },
     "execution_count": 12,
     "metadata": {},
     "output_type": "execute_result"
    }
   ],
   "source": [
    "gdp_df.value_counts('Year')"
   ]
  },
  {
   "cell_type": "raw",
   "id": "1b6f0774-0804-4a0f-98ad-80687e5f8254",
   "metadata": {},
   "source": [
    "8. How many countries are represented in this dataset? Which countries are least represented in the dataset? Why do you think these countries have so few observations?"
   ]
  },
  {
   "cell_type": "code",
   "execution_count": 13,
   "id": "4c61528b-93ce-46c8-9ef4-41f29a4be20e",
   "metadata": {},
   "outputs": [
    {
     "data": {
      "text/plain": [
       "Country\n",
       "Djibouti                                  11\n",
       "Turks and Caicos Islands                  13\n",
       "Sint Maarten (Dutch part)                 15\n",
       "Faroe Islands                             16\n",
       "Kosovo                                    16\n",
       "                                          ..\n",
       "Heavily indebted poor countries (HIPC)    34\n",
       "High income                               34\n",
       "Honduras                                  34\n",
       "Georgia                                   34\n",
       "Zimbabwe                                  34\n",
       "Name: GDP Per Capita, Length: 247, dtype: int64"
      ]
     },
     "execution_count": 13,
     "metadata": {},
     "output_type": "execute_result"
    }
   ],
   "source": [
    "num_obs_by_country = gdp_df.groupby(\"Country\")[\"GDP Per Capita\"].count().sort_values()\n",
    "num_obs_by_country"
   ]
  },
  {
   "cell_type": "code",
   "execution_count": 14,
   "id": "5d4bb1ac-bb91-495c-876b-3968a0eefe3d",
   "metadata": {},
   "outputs": [
    {
     "data": {
      "text/plain": [
       "np.int64(247)"
      ]
     },
     "execution_count": 14,
     "metadata": {},
     "output_type": "execute_result"
    }
   ],
   "source": [
    "gdp_df.value_counts('Country').count()"
   ]
  },
  {
   "cell_type": "code",
   "execution_count": 15,
   "id": "4c5f1303-586d-4c72-9059-781a91e66357",
   "metadata": {},
   "outputs": [
    {
     "data": {
      "text/plain": [
       "Country\n",
       "San Marino                   26\n",
       "CuraÃ§ao                     24\n",
       "Afghanistan                  24\n",
       "Virgin Islands               21\n",
       "Cayman Islands               18\n",
       "Faroe Islands                16\n",
       "Kosovo                       16\n",
       "Sint Maarten (Dutch part)    15\n",
       "Turks and Caicos Islands     13\n",
       "Djibouti                     11\n",
       "Name: count, dtype: int64"
      ]
     },
     "execution_count": 15,
     "metadata": {},
     "output_type": "execute_result"
    }
   ],
   "source": [
    "gdp_df.value_counts('Country').tail(10)"
   ]
  },
  {
   "cell_type": "markdown",
   "id": "69c56244-bc0f-4757-958a-5175c7b45755",
   "metadata": {},
   "source": [
    "These countries may be least represented due of thier lack of technology thereby means of communication."
   ]
  },
  {
   "cell_type": "raw",
   "id": "b1d51930-0bb1-4b65-b28c-0c92be4eabb7",
   "metadata": {},
   "source": [
    "9. Create a new dataframe by subsetting `gdp_df` to just the year 2021. Call this new dataframe `gdp_2021`."
   ]
  },
  {
   "cell_type": "code",
   "execution_count": 16,
   "id": "77006090-aead-4a2a-a265-86e7248fecee",
   "metadata": {},
   "outputs": [],
   "source": [
    "gdp_2021 = gdp_df[gdp_df['Year'] == 2021]"
   ]
  },
  {
   "cell_type": "code",
   "execution_count": 17,
   "id": "d6b39981-5e7c-4ac5-96d0-7400869f1d2d",
   "metadata": {},
   "outputs": [
    {
     "data": {
      "text/html": [
       "<div>\n",
       "<style scoped>\n",
       "    .dataframe tbody tr th:only-of-type {\n",
       "        vertical-align: middle;\n",
       "    }\n",
       "\n",
       "    .dataframe tbody tr th {\n",
       "        vertical-align: top;\n",
       "    }\n",
       "\n",
       "    .dataframe thead th {\n",
       "        text-align: right;\n",
       "    }\n",
       "</style>\n",
       "<table border=\"1\" class=\"dataframe\">\n",
       "  <thead>\n",
       "    <tr style=\"text-align: right;\">\n",
       "      <th></th>\n",
       "      <th>Country</th>\n",
       "      <th>Year</th>\n",
       "      <th>GDP Per Capita</th>\n",
       "    </tr>\n",
       "  </thead>\n",
       "  <tbody>\n",
       "    <tr>\n",
       "      <th>2</th>\n",
       "      <td>Afghanistan</td>\n",
       "      <td>2021</td>\n",
       "      <td>2144.166570</td>\n",
       "    </tr>\n",
       "    <tr>\n",
       "      <th>26</th>\n",
       "      <td>Africa Eastern and Southern</td>\n",
       "      <td>2021</td>\n",
       "      <td>3934.287267</td>\n",
       "    </tr>\n",
       "    <tr>\n",
       "      <th>60</th>\n",
       "      <td>Africa Western and Central</td>\n",
       "      <td>2021</td>\n",
       "      <td>4698.926894</td>\n",
       "    </tr>\n",
       "    <tr>\n",
       "      <th>94</th>\n",
       "      <td>Albania</td>\n",
       "      <td>2021</td>\n",
       "      <td>16113.136519</td>\n",
       "    </tr>\n",
       "    <tr>\n",
       "      <th>128</th>\n",
       "      <td>Algeria</td>\n",
       "      <td>2021</td>\n",
       "      <td>14496.865470</td>\n",
       "    </tr>\n",
       "  </tbody>\n",
       "</table>\n",
       "</div>"
      ],
      "text/plain": [
       "                         Country  Year  GDP Per Capita\n",
       "2                    Afghanistan  2021     2144.166570\n",
       "26   Africa Eastern and Southern  2021     3934.287267\n",
       "60    Africa Western and Central  2021     4698.926894\n",
       "94                       Albania  2021    16113.136519\n",
       "128                      Algeria  2021    14496.865470"
      ]
     },
     "execution_count": 17,
     "metadata": {},
     "output_type": "execute_result"
    }
   ],
   "source": [
    "gdp_2021.head()"
   ]
  },
  {
   "cell_type": "raw",
   "id": "9b1918a6-f218-4be6-b613-166c2e0ad00e",
   "metadata": {},
   "source": [
    "10. Use `.describe()` to find the summary statistics for GDP per capita in 2021. "
   ]
  },
  {
   "cell_type": "code",
   "execution_count": 18,
   "id": "ee04b6fa-7612-445f-9ecd-cfeb5d37d715",
   "metadata": {},
   "outputs": [
    {
     "data": {
      "text/plain": [
       "count       247.000000\n",
       "mean      24478.517262\n",
       "std       24601.525764\n",
       "min         836.665571\n",
       "25%        5996.532844\n",
       "50%       15900.976581\n",
       "75%       37298.776853\n",
       "max      135379.291201\n",
       "Name: GDP Per Capita, dtype: float64"
      ]
     },
     "execution_count": 18,
     "metadata": {},
     "output_type": "execute_result"
    }
   ],
   "source": [
    "gdp_2021['GDP Per Capita'].describe()"
   ]
  },
  {
   "cell_type": "raw",
   "id": "1b62b33f-82c7-44ca-9c30-40f780686911",
   "metadata": {},
   "source": [
    "11. Create a histogram of GDP Per Capita numbers for 2021 (you may wish to adjust the number of bins for your histogram). How would you describe the shape of the distribution?"
   ]
  },
  {
   "cell_type": "markdown",
   "id": "15b48428-c4ed-4c0d-bba0-f5b34d35fec5",
   "metadata": {},
   "source": [
    "This distribution is right skewed."
   ]
  },
  {
   "cell_type": "code",
   "execution_count": 19,
   "id": "356718cc-b1b3-4a40-b62a-8e126a927662",
   "metadata": {},
   "outputs": [
    {
     "data": {
      "image/png": "[encoded data removed]",
      "text/plain": [
       "<Figure size 1000x600 with 1 Axes>"
      ]
     },
     "metadata": {},
     "output_type": "display_data"
    }
   ],
   "source": [
    "fig,ax = plt.subplots(figsize = (10,6))               \n",
    "\n",
    "plt.hist(\n",
    "    data=gdp_2021,\n",
    "    x='GDP Per Capita',\n",
    "    edgecolor='black',\n",
    "    linewidth=2\n",
    ");                              \n",
    "plt.xlabel('GDP Distribution')                            \n",
    "plt.ylabel('Count')\n",
    "plt.title('Histogram of 2021 GPD Per Capita');"
   ]
  },
  {
   "cell_type": "markdown",
   "id": "91dda2f6-eb37-46e4-8f40-2582d806be69",
   "metadata": {},
   "source": [
    "12. Find the top 5 counties and bottom 5 countries by GDP per capita in 2021."
   ]
  },
  {
   "cell_type": "code",
   "execution_count": 20,
   "id": "5dad2b2a-8562-4203-a4c7-64d61c0a7861",
   "metadata": {},
   "outputs": [
    {
     "data": {
      "text/html": [
       "<div>\n",
       "<style scoped>\n",
       "    .dataframe tbody tr th:only-of-type {\n",
       "        vertical-align: middle;\n",
       "    }\n",
       "\n",
       "    .dataframe tbody tr th {\n",
       "        vertical-align: top;\n",
       "    }\n",
       "\n",
       "    .dataframe thead th {\n",
       "        text-align: right;\n",
       "    }\n",
       "</style>\n",
       "<table border=\"1\" class=\"dataframe\">\n",
       "  <thead>\n",
       "    <tr style=\"text-align: right;\">\n",
       "      <th></th>\n",
       "      <th>Country</th>\n",
       "      <th>Year</th>\n",
       "      <th>GDP Per Capita</th>\n",
       "    </tr>\n",
       "  </thead>\n",
       "  <tbody>\n",
       "    <tr>\n",
       "      <th>2</th>\n",
       "      <td>Afghanistan</td>\n",
       "      <td>2021</td>\n",
       "      <td>2144.166570</td>\n",
       "    </tr>\n",
       "    <tr>\n",
       "      <th>26</th>\n",
       "      <td>Africa Eastern and Southern</td>\n",
       "      <td>2021</td>\n",
       "      <td>3934.287267</td>\n",
       "    </tr>\n",
       "    <tr>\n",
       "      <th>60</th>\n",
       "      <td>Africa Western and Central</td>\n",
       "      <td>2021</td>\n",
       "      <td>4698.926894</td>\n",
       "    </tr>\n",
       "    <tr>\n",
       "      <th>94</th>\n",
       "      <td>Albania</td>\n",
       "      <td>2021</td>\n",
       "      <td>16113.136519</td>\n",
       "    </tr>\n",
       "    <tr>\n",
       "      <th>128</th>\n",
       "      <td>Algeria</td>\n",
       "      <td>2021</td>\n",
       "      <td>14496.865470</td>\n",
       "    </tr>\n",
       "  </tbody>\n",
       "</table>\n",
       "</div>"
      ],
      "text/plain": [
       "                         Country  Year  GDP Per Capita\n",
       "2                    Afghanistan  2021     2144.166570\n",
       "26   Africa Eastern and Southern  2021     3934.287267\n",
       "60    Africa Western and Central  2021     4698.926894\n",
       "94                       Albania  2021    16113.136519\n",
       "128                      Algeria  2021    14496.865470"
      ]
     },
     "execution_count": 20,
     "metadata": {},
     "output_type": "execute_result"
    }
   ],
   "source": [
    "gdp_2021.head(5)"
   ]
  },
  {
   "cell_type": "code",
   "execution_count": 21,
   "id": "28d2737f-9c1a-45f5-b0c0-2396167ce736",
   "metadata": {},
   "outputs": [
    {
     "data": {
      "text/html": [
       "<div>\n",
       "<style scoped>\n",
       "    .dataframe tbody tr th:only-of-type {\n",
       "        vertical-align: middle;\n",
       "    }\n",
       "\n",
       "    .dataframe tbody tr th {\n",
       "        vertical-align: top;\n",
       "    }\n",
       "\n",
       "    .dataframe thead th {\n",
       "        text-align: right;\n",
       "    }\n",
       "</style>\n",
       "<table border=\"1\" class=\"dataframe\">\n",
       "  <thead>\n",
       "    <tr style=\"text-align: right;\">\n",
       "      <th></th>\n",
       "      <th>Country</th>\n",
       "      <th>Year</th>\n",
       "      <th>GDP Per Capita</th>\n",
       "    </tr>\n",
       "  </thead>\n",
       "  <tbody>\n",
       "    <tr>\n",
       "      <th>8067</th>\n",
       "      <td>Virgin Islands</td>\n",
       "      <td>2021</td>\n",
       "      <td>46893.549699</td>\n",
       "    </tr>\n",
       "    <tr>\n",
       "      <th>8089</th>\n",
       "      <td>West Bank and Gaza</td>\n",
       "      <td>2021</td>\n",
       "      <td>5663.121607</td>\n",
       "    </tr>\n",
       "    <tr>\n",
       "      <th>8119</th>\n",
       "      <td>World</td>\n",
       "      <td>2021</td>\n",
       "      <td>19637.823230</td>\n",
       "    </tr>\n",
       "    <tr>\n",
       "      <th>8153</th>\n",
       "      <td>Zambia</td>\n",
       "      <td>2021</td>\n",
       "      <td>3503.034914</td>\n",
       "    </tr>\n",
       "    <tr>\n",
       "      <th>8187</th>\n",
       "      <td>Zimbabwe</td>\n",
       "      <td>2021</td>\n",
       "      <td>3184.785451</td>\n",
       "    </tr>\n",
       "  </tbody>\n",
       "</table>\n",
       "</div>"
      ],
      "text/plain": [
       "                 Country  Year  GDP Per Capita\n",
       "8067      Virgin Islands  2021    46893.549699\n",
       "8089  West Bank and Gaza  2021     5663.121607\n",
       "8119               World  2021    19637.823230\n",
       "8153              Zambia  2021     3503.034914\n",
       "8187            Zimbabwe  2021     3184.785451"
      ]
     },
     "execution_count": 21,
     "metadata": {},
     "output_type": "execute_result"
    }
   ],
   "source": [
    "gdp_2021.tail(5)"
   ]
  },
  {
   "cell_type": "markdown",
   "id": "768a460b-dc63-4147-8a61-667a648aaba4",
   "metadata": {},
   "source": [
    "13. Now, return to the full dataset, `gdp_df`. Pivot the data for 1990 and 2021 (using the pandas `.pivot_table()` method or another method) so that each row corresponds to a country, each column corresponds to a year, and the values in the table give the GDP_Per_Capita amount. Drop any rows that are missing values for either 1990 or 2021. Save the result to a dataframe named `gdp_pivoted`."
   ]
  },
  {
   "cell_type": "code",
   "execution_count": 22,
   "id": "a9a5dec8-d9f2-45ab-9ae7-c7364e7f1614",
   "metadata": {},
   "outputs": [],
   "source": [
    "gdp_df_1990_2021 = gdp_df[gdp_df['Year'].isin([1990, 2021])]"
   ]
  },
  {
   "cell_type": "code",
   "execution_count": 23,
   "id": "57c92c14-72fe-4a29-a25b-dee00ff1017e",
   "metadata": {},
   "outputs": [],
   "source": [
    "gdp_pivoted = gdp_df_1990_2021.pivot_table(\n",
    "    values = 'GDP Per Capita',\n",
    "    index = 'Country',\n",
    "    columns = 'Year').dropna(subset = [1990, 2021])"
   ]
  },
  {
   "cell_type": "code",
   "execution_count": 24,
   "id": "29d7eb7d-2bc8-4bb6-8a49-f78cd2cafbf0",
   "metadata": {},
   "outputs": [
    {
     "data": {
      "text/html": [
       "<div>\n",
       "<style scoped>\n",
       "    .dataframe tbody tr th:only-of-type {\n",
       "        vertical-align: middle;\n",
       "    }\n",
       "\n",
       "    .dataframe tbody tr th {\n",
       "        vertical-align: top;\n",
       "    }\n",
       "\n",
       "    .dataframe thead th {\n",
       "        text-align: right;\n",
       "    }\n",
       "</style>\n",
       "<table border=\"1\" class=\"dataframe\">\n",
       "  <thead>\n",
       "    <tr style=\"text-align: right;\">\n",
       "      <th>Year</th>\n",
       "      <th>1990</th>\n",
       "      <th>2021</th>\n",
       "    </tr>\n",
       "    <tr>\n",
       "      <th>Country</th>\n",
       "      <th></th>\n",
       "      <th></th>\n",
       "    </tr>\n",
       "  </thead>\n",
       "  <tbody>\n",
       "    <tr>\n",
       "      <th>United Kingdom</th>\n",
       "      <td>34312.452803</td>\n",
       "      <td>50978.951001</td>\n",
       "    </tr>\n",
       "    <tr>\n",
       "      <th>United States</th>\n",
       "      <td>44378.524027</td>\n",
       "      <td>71318.307359</td>\n",
       "    </tr>\n",
       "    <tr>\n",
       "      <th>Upper middle income</th>\n",
       "      <td>5934.125381</td>\n",
       "      <td>19230.430577</td>\n",
       "    </tr>\n",
       "    <tr>\n",
       "      <th>Uruguay</th>\n",
       "      <td>14106.527502</td>\n",
       "      <td>29441.477487</td>\n",
       "    </tr>\n",
       "    <tr>\n",
       "      <th>Uzbekistan</th>\n",
       "      <td>4214.583997</td>\n",
       "      <td>9247.643827</td>\n",
       "    </tr>\n",
       "    <tr>\n",
       "      <th>Vanuatu</th>\n",
       "      <td>3101.680551</td>\n",
       "      <td>3135.836649</td>\n",
       "    </tr>\n",
       "    <tr>\n",
       "      <th>Viet Nam</th>\n",
       "      <td>2467.964601</td>\n",
       "      <td>12048.901994</td>\n",
       "    </tr>\n",
       "    <tr>\n",
       "      <th>World</th>\n",
       "      <td>11207.386344</td>\n",
       "      <td>19637.823230</td>\n",
       "    </tr>\n",
       "    <tr>\n",
       "      <th>Zambia</th>\n",
       "      <td>2425.111287</td>\n",
       "      <td>3503.034914</td>\n",
       "    </tr>\n",
       "    <tr>\n",
       "      <th>Zimbabwe</th>\n",
       "      <td>4013.299059</td>\n",
       "      <td>3184.785451</td>\n",
       "    </tr>\n",
       "  </tbody>\n",
       "</table>\n",
       "</div>"
      ],
      "text/plain": [
       "Year                         1990          2021\n",
       "Country                                        \n",
       "United Kingdom       34312.452803  50978.951001\n",
       "United States        44378.524027  71318.307359\n",
       "Upper middle income   5934.125381  19230.430577\n",
       "Uruguay              14106.527502  29441.477487\n",
       "Uzbekistan            4214.583997   9247.643827\n",
       "Vanuatu               3101.680551   3135.836649\n",
       "Viet Nam              2467.964601  12048.901994\n",
       "World                11207.386344  19637.823230\n",
       "Zambia                2425.111287   3503.034914\n",
       "Zimbabwe              4013.299059   3184.785451"
      ]
     },
     "execution_count": 24,
     "metadata": {},
     "output_type": "execute_result"
    }
   ],
   "source": [
    "gdp_pivoted.tail(10)"
   ]
  },
  {
   "cell_type": "markdown",
   "id": "9483c918-42a4-40bc-bf65-0910f4af855a",
   "metadata": {},
   "source": [
    "14. Create a new column in `gdp_pivoted` named `Percent_Change`. This column should contain the percent change in GDP_Per_Capita from 1990 to 2021. Hint: Percent change is calculated as 100*(New Value - Old Value) / Old Value."
   ]
  },
  {
   "cell_type": "code",
   "execution_count": 25,
   "id": "967de888-1137-440e-822d-004b29cb9beb",
   "metadata": {},
   "outputs": [],
   "source": [
    "gdp_pivoted['Percent Change'] = 100 * (gdp_pivoted[2021] - gdp_pivoted[1990]) / gdp_pivoted[1990]"
   ]
  },
  {
   "cell_type": "code",
   "execution_count": 26,
   "id": "16a8171c-1752-45de-ba31-dc2252dc040b",
   "metadata": {},
   "outputs": [
    {
     "data": {
      "text/html": [
       "<div>\n",
       "<style scoped>\n",
       "    .dataframe tbody tr th:only-of-type {\n",
       "        vertical-align: middle;\n",
       "    }\n",
       "\n",
       "    .dataframe tbody tr th {\n",
       "        vertical-align: top;\n",
       "    }\n",
       "\n",
       "    .dataframe thead th {\n",
       "        text-align: right;\n",
       "    }\n",
       "</style>\n",
       "<table border=\"1\" class=\"dataframe\">\n",
       "  <thead>\n",
       "    <tr style=\"text-align: right;\">\n",
       "      <th>Year</th>\n",
       "      <th>1990</th>\n",
       "      <th>2021</th>\n",
       "      <th>Percent Change</th>\n",
       "    </tr>\n",
       "    <tr>\n",
       "      <th>Country</th>\n",
       "      <th></th>\n",
       "      <th></th>\n",
       "      <th></th>\n",
       "    </tr>\n",
       "  </thead>\n",
       "  <tbody>\n",
       "    <tr>\n",
       "      <th>Africa Eastern and Southern</th>\n",
       "      <td>3386.854480</td>\n",
       "      <td>3934.287267</td>\n",
       "      <td>16.163458</td>\n",
       "    </tr>\n",
       "    <tr>\n",
       "      <th>Africa Western and Central</th>\n",
       "      <td>3299.401375</td>\n",
       "      <td>4698.926894</td>\n",
       "      <td>42.417559</td>\n",
       "    </tr>\n",
       "    <tr>\n",
       "      <th>Albania</th>\n",
       "      <td>5327.747458</td>\n",
       "      <td>16113.136519</td>\n",
       "      <td>202.438069</td>\n",
       "    </tr>\n",
       "    <tr>\n",
       "      <th>Algeria</th>\n",
       "      <td>11728.545729</td>\n",
       "      <td>14496.865470</td>\n",
       "      <td>23.603265</td>\n",
       "    </tr>\n",
       "    <tr>\n",
       "      <th>Andorra</th>\n",
       "      <td>50036.300776</td>\n",
       "      <td>59332.202910</td>\n",
       "      <td>18.578316</td>\n",
       "    </tr>\n",
       "    <tr>\n",
       "      <th>...</th>\n",
       "      <td>...</td>\n",
       "      <td>...</td>\n",
       "      <td>...</td>\n",
       "    </tr>\n",
       "    <tr>\n",
       "      <th>Vanuatu</th>\n",
       "      <td>3101.680551</td>\n",
       "      <td>3135.836649</td>\n",
       "      <td>1.101213</td>\n",
       "    </tr>\n",
       "    <tr>\n",
       "      <th>Viet Nam</th>\n",
       "      <td>2467.964601</td>\n",
       "      <td>12048.901994</td>\n",
       "      <td>388.212108</td>\n",
       "    </tr>\n",
       "    <tr>\n",
       "      <th>World</th>\n",
       "      <td>11207.386344</td>\n",
       "      <td>19637.823230</td>\n",
       "      <td>75.222149</td>\n",
       "    </tr>\n",
       "    <tr>\n",
       "      <th>Zambia</th>\n",
       "      <td>2425.111287</td>\n",
       "      <td>3503.034914</td>\n",
       "      <td>44.448419</td>\n",
       "    </tr>\n",
       "    <tr>\n",
       "      <th>Zimbabwe</th>\n",
       "      <td>4013.299059</td>\n",
       "      <td>3184.785451</td>\n",
       "      <td>-20.644203</td>\n",
       "    </tr>\n",
       "  </tbody>\n",
       "</table>\n",
       "<p>233 rows × 3 columns</p>\n",
       "</div>"
      ],
      "text/plain": [
       "Year                                 1990          2021  Percent Change\n",
       "Country                                                                \n",
       "Africa Eastern and Southern   3386.854480   3934.287267       16.163458\n",
       "Africa Western and Central    3299.401375   4698.926894       42.417559\n",
       "Albania                       5327.747458  16113.136519      202.438069\n",
       "Algeria                      11728.545729  14496.865470       23.603265\n",
       "Andorra                      50036.300776  59332.202910       18.578316\n",
       "...                                   ...           ...             ...\n",
       "Vanuatu                       3101.680551   3135.836649        1.101213\n",
       "Viet Nam                      2467.964601  12048.901994      388.212108\n",
       "World                        11207.386344  19637.823230       75.222149\n",
       "Zambia                        2425.111287   3503.034914       44.448419\n",
       "Zimbabwe                      4013.299059   3184.785451      -20.644203\n",
       "\n",
       "[233 rows x 3 columns]"
      ]
     },
     "execution_count": 26,
     "metadata": {},
     "output_type": "execute_result"
    }
   ],
   "source": [
    "gdp_pivoted"
   ]
  },
  {
   "cell_type": "markdown",
   "id": "71d8aa48-457b-4d85-a210-028f2aa97d9c",
   "metadata": {},
   "source": [
    "15. How many countries experienced a negative percent change in GDP per capita from 1990 to 2021?"
   ]
  },
  {
   "cell_type": "markdown",
   "id": "0684b7a6-4a6a-409e-8f46-e9374e1d1a82",
   "metadata": {},
   "source": [
    "Twenty three different countries have experienced a negative shift in GDP from 1990 to 2021."
   ]
  },
  {
   "cell_type": "code",
   "execution_count": 27,
   "id": "ff81d182-9f46-4b1b-929a-eb7a5752fcc2",
   "metadata": {},
   "outputs": [],
   "source": [
    "gdp_pivoted['Negative GDP Change'] = gdp_pivoted['Percent Change'] < 0"
   ]
  },
  {
   "cell_type": "code",
   "execution_count": 28,
   "id": "67ff4285-b21b-4938-81fc-e2b2245105ad",
   "metadata": {},
   "outputs": [
    {
     "name": "stdout",
     "output_type": "stream",
     "text": [
      "23\n"
     ]
    }
   ],
   "source": [
    "print(gdp_pivoted['Negative GDP Change'].sum())"
   ]
  },
  {
   "cell_type": "code",
   "execution_count": 29,
   "id": "2359f1d9-adc5-4869-bfc3-ce8798b68b9c",
   "metadata": {},
   "outputs": [
    {
     "data": {
      "text/plain": [
       "np.int64(23)"
      ]
     },
     "execution_count": 29,
     "metadata": {},
     "output_type": "execute_result"
    }
   ],
   "source": [
    "# Quick one line solution\n",
    "(gdp_pivoted['Percent Change'] < 0).sum()"
   ]
  },
  {
   "cell_type": "markdown",
   "id": "5701ef8a-f6c2-40f4-bfc0-e3fcb26ca39e",
   "metadata": {},
   "source": [
    "16. Which country had the highest % change in GDP per capita? Create a line plot showing this country's GDP per capita for all years from 1990 to 2018. Create another showing the country with the second highest % change in GDP. How do the trends in these countries compare?  \n",
    "**Bonus:** Put both line charts on the same plot."
   ]
  },
  {
   "cell_type": "code",
   "execution_count": 30,
   "id": "e97e87c8-70ac-4b64-949e-d16c65cc6259",
   "metadata": {},
   "outputs": [],
   "source": [
    "gdp_sorted_pivot = gdp_pivoted.sort_values('Percent Change', ascending=False)"
   ]
  },
  {
   "cell_type": "code",
   "execution_count": 31,
   "id": "2d415f2e-e604-434f-a514-be9a8b25fc73",
   "metadata": {},
   "outputs": [
    {
     "data": {
      "text/html": [
       "<div>\n",
       "<style scoped>\n",
       "    .dataframe tbody tr th:only-of-type {\n",
       "        vertical-align: middle;\n",
       "    }\n",
       "\n",
       "    .dataframe tbody tr th {\n",
       "        vertical-align: top;\n",
       "    }\n",
       "\n",
       "    .dataframe thead th {\n",
       "        text-align: right;\n",
       "    }\n",
       "</style>\n",
       "<table border=\"1\" class=\"dataframe\">\n",
       "  <thead>\n",
       "    <tr style=\"text-align: right;\">\n",
       "      <th>Year</th>\n",
       "      <th>1990</th>\n",
       "      <th>2021</th>\n",
       "      <th>Percent Change</th>\n",
       "      <th>Negative GDP Change</th>\n",
       "    </tr>\n",
       "    <tr>\n",
       "      <th>Country</th>\n",
       "      <th></th>\n",
       "      <th></th>\n",
       "      <th></th>\n",
       "      <th></th>\n",
       "    </tr>\n",
       "  </thead>\n",
       "  <tbody>\n",
       "    <tr>\n",
       "      <th>Equatorial Guinea</th>\n",
       "      <td>1122.817674</td>\n",
       "      <td>16821.448647</td>\n",
       "      <td>1398.146052</td>\n",
       "      <td>False</td>\n",
       "    </tr>\n",
       "    <tr>\n",
       "      <th>China</th>\n",
       "      <td>1645.578944</td>\n",
       "      <td>20406.729658</td>\n",
       "      <td>1140.094237</td>\n",
       "      <td>False</td>\n",
       "    </tr>\n",
       "  </tbody>\n",
       "</table>\n",
       "</div>"
      ],
      "text/plain": [
       "Year                      1990          2021  Percent Change  \\\n",
       "Country                                                        \n",
       "Equatorial Guinea  1122.817674  16821.448647     1398.146052   \n",
       "China              1645.578944  20406.729658     1140.094237   \n",
       "\n",
       "Year               Negative GDP Change  \n",
       "Country                                 \n",
       "Equatorial Guinea                False  \n",
       "China                            False  "
      ]
     },
     "execution_count": 31,
     "metadata": {},
     "output_type": "execute_result"
    }
   ],
   "source": [
    "gdp_sorted_pivot.head(2)"
   ]
  },
  {
   "cell_type": "code",
   "execution_count": 32,
   "id": "669badaa-7ac3-4374-a8b9-00aceccba42c",
   "metadata": {},
   "outputs": [],
   "source": [
    "equgui = gdp_df[gdp_df['Country'].isin(['Equatorial Guinea'])]"
   ]
  },
  {
   "cell_type": "code",
   "execution_count": 33,
   "id": "415b2aa0-29a2-4c9e-bbba-29a87c2dd9fa",
   "metadata": {},
   "outputs": [
    {
     "data": {
      "image/png": "[encoded data removed]",
      "text/plain": [
       "<Figure size 640x480 with 1 Axes>"
      ]
     },
     "metadata": {},
     "output_type": "display_data"
    }
   ],
   "source": [
    "equgui.plot(x='Year', y='GDP Per Capita', kind='line', title= 'Equatorial Guinea GDP per Capita Growth');"
   ]
  },
  {
   "cell_type": "code",
   "execution_count": 34,
   "id": "8ae492fc-d652-4ae3-890f-7b4ee6240f5b",
   "metadata": {},
   "outputs": [],
   "source": [
    "china = gdp_df[gdp_df['Country'].isin(['China'])]"
   ]
  },
  {
   "cell_type": "code",
   "execution_count": 35,
   "id": "3ba06d1e-18a4-4866-aed9-6f5b8daf26cc",
   "metadata": {},
   "outputs": [
    {
     "data": {
      "image/png": "[encoded data removed]",
      "text/plain": [
       "<Figure size 640x480 with 1 Axes>"
      ]
     },
     "metadata": {},
     "output_type": "display_data"
    }
   ],
   "source": [
    "china.plot(x='Year', y='GDP Per Capita', kind='line', title= 'China GDP per Capita Growth');"
   ]
  },
  {
   "cell_type": "code",
   "execution_count": 36,
   "id": "1d71cca9-a561-4fdb-b1cb-a817ffb361d3",
   "metadata": {},
   "outputs": [],
   "source": [
    "two_max_gdp_change = gdp_df[gdp_df['Country'].isin(['China','Equatorial Guinea'])]"
   ]
  },
  {
   "cell_type": "code",
   "execution_count": 37,
   "id": "1fd2335f-c632-49bb-9f02-8a5ce182e9ff",
   "metadata": {},
   "outputs": [
    {
     "data": {
      "image/png": "[encoded data removed]",
      "text/plain": [
       "<Figure size 640x480 with 1 Axes>"
      ]
     },
     "metadata": {},
     "output_type": "display_data"
    }
   ],
   "source": [
    "sns.lineplot(\n",
    "    data = two_max_gdp_change, \n",
    "    x = 'Year', \n",
    "    y = 'GDP Per Capita', \n",
    "    hue = 'Country')\n",
    "plt.title('China and Equatorial Guinea GDP Per Capita Growth')\n",
    "plt.ylabel('GDP Per Capita');"
   ]
  },
  {
   "cell_type": "markdown",
   "id": "cf523718-daf1-4f39-a318-59668584357a",
   "metadata": {},
   "source": [
    "17. Read in continents.csv contained in the `data` folder into a new dataframe called `continents`. We will be using this dataframe to add a new column to our dataset."
   ]
  },
  {
   "cell_type": "code",
   "execution_count": 38,
   "id": "2423fe04-9bf5-4787-a683-b2514972dfc3",
   "metadata": {},
   "outputs": [],
   "source": [
    "continents = pd.read_csv('../data/continents.csv')"
   ]
  },
  {
   "cell_type": "code",
   "execution_count": 39,
   "id": "1fd3ce98-666f-459d-a8c6-707c8e4957e3",
   "metadata": {},
   "outputs": [
    {
     "data": {
      "text/html": [
       "<div>\n",
       "<style scoped>\n",
       "    .dataframe tbody tr th:only-of-type {\n",
       "        vertical-align: middle;\n",
       "    }\n",
       "\n",
       "    .dataframe tbody tr th {\n",
       "        vertical-align: top;\n",
       "    }\n",
       "\n",
       "    .dataframe thead th {\n",
       "        text-align: right;\n",
       "    }\n",
       "</style>\n",
       "<table border=\"1\" class=\"dataframe\">\n",
       "  <thead>\n",
       "    <tr style=\"text-align: right;\">\n",
       "      <th></th>\n",
       "      <th>Continent</th>\n",
       "      <th>Country</th>\n",
       "    </tr>\n",
       "  </thead>\n",
       "  <tbody>\n",
       "    <tr>\n",
       "      <th>0</th>\n",
       "      <td>Asia</td>\n",
       "      <td>Afghanistan</td>\n",
       "    </tr>\n",
       "    <tr>\n",
       "      <th>1</th>\n",
       "      <td>Europe</td>\n",
       "      <td>Albania</td>\n",
       "    </tr>\n",
       "    <tr>\n",
       "      <th>2</th>\n",
       "      <td>Africa</td>\n",
       "      <td>Algeria</td>\n",
       "    </tr>\n",
       "    <tr>\n",
       "      <th>3</th>\n",
       "      <td>Europe</td>\n",
       "      <td>Andorra</td>\n",
       "    </tr>\n",
       "    <tr>\n",
       "      <th>4</th>\n",
       "      <td>Africa</td>\n",
       "      <td>Angola</td>\n",
       "    </tr>\n",
       "  </tbody>\n",
       "</table>\n",
       "</div>"
      ],
      "text/plain": [
       "  Continent      Country\n",
       "0      Asia  Afghanistan\n",
       "1    Europe      Albania\n",
       "2    Africa      Algeria\n",
       "3    Europe      Andorra\n",
       "4    Africa       Angola"
      ]
     },
     "execution_count": 39,
     "metadata": {},
     "output_type": "execute_result"
    }
   ],
   "source": [
    "continents.head()"
   ]
  },
  {
   "cell_type": "markdown",
   "id": "d6ee2e69-c47b-4e01-94c2-87af6dbd144a",
   "metadata": {},
   "source": [
    "18. Merge gdp_df and continents. Keep only the countries that appear in both data frames. Save the result back to gdp_df."
   ]
  },
  {
   "cell_type": "code",
   "execution_count": 40,
   "id": "5acf49b5-35ec-4b1b-9a3c-f0cbc4a5e769",
   "metadata": {},
   "outputs": [],
   "source": [
    "gdp_df = pd.merge(\n",
    "    gdp_df, \n",
    "    continents,\n",
    "    how='inner', \n",
    "    on='Country')"
   ]
  },
  {
   "cell_type": "markdown",
   "id": "afa39214-af40-45eb-bb92-95248af277ee",
   "metadata": {},
   "source": [
    "19. Determine the number of countries per continent. Create a bar chart showing this."
   ]
  },
  {
   "cell_type": "code",
   "execution_count": 41,
   "id": "941025c8-95ff-4d20-b282-2aeceed1a4c4",
   "metadata": {},
   "outputs": [
    {
     "data": {
      "text/plain": [
       "Continent\n",
       "Africa           1676\n",
       "Asia             1378\n",
       "Europe           1492\n",
       "North America     868\n",
       "Oceania           475\n",
       "South America     374\n",
       "Name: Country, dtype: int64"
      ]
     },
     "execution_count": 41,
     "metadata": {},
     "output_type": "execute_result"
    }
   ],
   "source": [
    "gdp_df.groupby('Continent')['Country'].count()"
   ]
  },
  {
   "cell_type": "code",
   "execution_count": 42,
   "id": "558296bb-a22d-409e-b616-8495ba06d7e1",
   "metadata": {},
   "outputs": [
    {
     "data": {
      "text/html": [
       "<div>\n",
       "<style scoped>\n",
       "    .dataframe tbody tr th:only-of-type {\n",
       "        vertical-align: middle;\n",
       "    }\n",
       "\n",
       "    .dataframe tbody tr th {\n",
       "        vertical-align: top;\n",
       "    }\n",
       "\n",
       "    .dataframe thead th {\n",
       "        text-align: right;\n",
       "    }\n",
       "</style>\n",
       "<table border=\"1\" class=\"dataframe\">\n",
       "  <thead>\n",
       "    <tr style=\"text-align: right;\">\n",
       "      <th></th>\n",
       "      <th>Country</th>\n",
       "      <th>Year</th>\n",
       "      <th>GDP Per Capita</th>\n",
       "      <th>Continent</th>\n",
       "    </tr>\n",
       "  </thead>\n",
       "  <tbody>\n",
       "    <tr>\n",
       "      <th>0</th>\n",
       "      <td>Afghanistan</td>\n",
       "      <td>2023</td>\n",
       "      <td>1992.424394</td>\n",
       "      <td>Asia</td>\n",
       "    </tr>\n",
       "    <tr>\n",
       "      <th>1</th>\n",
       "      <td>Afghanistan</td>\n",
       "      <td>2022</td>\n",
       "      <td>1981.710168</td>\n",
       "      <td>Asia</td>\n",
       "    </tr>\n",
       "    <tr>\n",
       "      <th>2</th>\n",
       "      <td>Afghanistan</td>\n",
       "      <td>2021</td>\n",
       "      <td>2144.166570</td>\n",
       "      <td>Asia</td>\n",
       "    </tr>\n",
       "    <tr>\n",
       "      <th>3</th>\n",
       "      <td>Afghanistan</td>\n",
       "      <td>2020</td>\n",
       "      <td>2769.685745</td>\n",
       "      <td>Asia</td>\n",
       "    </tr>\n",
       "    <tr>\n",
       "      <th>4</th>\n",
       "      <td>Afghanistan</td>\n",
       "      <td>2019</td>\n",
       "      <td>2927.245144</td>\n",
       "      <td>Asia</td>\n",
       "    </tr>\n",
       "  </tbody>\n",
       "</table>\n",
       "</div>"
      ],
      "text/plain": [
       "       Country  Year  GDP Per Capita Continent\n",
       "0  Afghanistan  2023     1992.424394      Asia\n",
       "1  Afghanistan  2022     1981.710168      Asia\n",
       "2  Afghanistan  2021     2144.166570      Asia\n",
       "3  Afghanistan  2020     2769.685745      Asia\n",
       "4  Afghanistan  2019     2927.245144      Asia"
      ]
     },
     "execution_count": 42,
     "metadata": {},
     "output_type": "execute_result"
    }
   ],
   "source": [
    "gdp_df.head()"
   ]
  },
  {
   "cell_type": "code",
   "execution_count": 43,
   "id": "55cdcddf-2fd4-4d4d-9882-636e4e2d8ffb",
   "metadata": {},
   "outputs": [
    {
     "data": {
      "image/png": "[encoded data removed]",
      "text/plain": [
       "<Figure size 640x480 with 1 Axes>"
      ]
     },
     "metadata": {},
     "output_type": "display_data"
    }
   ],
   "source": [
    "gdp_df.groupby('Continent')['Country'].count().plot(kind='bar', rot= 25, title= 'Number of Countries per Continent')\n",
    "plt.xlabel('Continents', fontsize=12)\n",
    "plt.ylabel('Frequency', fontsize=12);"
   ]
  },
  {
   "cell_type": "code",
   "execution_count": 44,
   "id": "62178a19-a632-4db5-868c-b5da9cfae16b",
   "metadata": {},
   "outputs": [
    {
     "name": "stdout",
     "output_type": "stream",
     "text": [
      "Object `notice` not found.\n"
     ]
    }
   ],
   "source": [
    "20. Create a seaborn boxplot showing GDP per capita in 2021 split out by continent. What do you notice?"
   ]
  },
  {
   "cell_type": "code",
   "execution_count": 45,
   "id": "04e2f064-bb53-47e1-b760-34d29c934134",
   "metadata": {},
   "outputs": [
    {
     "data": {
      "image/png": "[encoded data removed]",
      "text/plain": [
       "<Figure size 640x480 with 1 Axes>"
      ]
     },
     "metadata": {},
     "output_type": "display_data"
    }
   ],
   "source": [
    "sns.boxplot(\n",
    "    data=gdp_df[gdp_df['Year'].isin([2021])],\n",
    "    x='Continent', \n",
    "    y='GDP Per Capita'\n",
    ");\n",
    "plt.xticks(rotation=45)\n",
    "plt.ylabel('GDP Per Capita')\n",
    "plt.title('2021 GPD Per Capita Boxplot');"
   ]
  },
  {
   "cell_type": "markdown",
   "id": "c8622e8d-4608-441e-bd60-d545d56c72cd",
   "metadata": {},
   "source": [
    "Europe has the highest average GDP per capita."
   ]
  },
  {
   "cell_type": "markdown",
   "id": "b9d9748f-8b3a-4914-ae2a-a46443cd0601",
   "metadata": {},
   "source": [
    "21. Download the full csv containing Life expectancy at birth, total (years) from [https://data.worldbank.org/indicator/SP.DYN.LE00.IN?name_desc=false](https://data.worldbank.org/indicator/SP.DYN.LE00.IN?name_desc=false). Read this data into a DataFrame named `life_expectancy`. Note: When reading this dataset it, you may encounter an error. Modify your `read_csv` call to correct this **without modifying the original csv file**.\n",
    " "
   ]
  },
  {
   "cell_type": "code",
   "execution_count": 46,
   "id": "3783de7e-c801-47d7-9e47-a9147a935bd8",
   "metadata": {},
   "outputs": [
    {
     "data": {
      "text/html": [
       "<div>\n",
       "<style scoped>\n",
       "    .dataframe tbody tr th:only-of-type {\n",
       "        vertical-align: middle;\n",
       "    }\n",
       "\n",
       "    .dataframe tbody tr th {\n",
       "        vertical-align: top;\n",
       "    }\n",
       "\n",
       "    .dataframe thead th {\n",
       "        text-align: right;\n",
       "    }\n",
       "</style>\n",
       "<table border=\"1\" class=\"dataframe\">\n",
       "  <thead>\n",
       "    <tr style=\"text-align: right;\">\n",
       "      <th></th>\n",
       "      <th>Country Name</th>\n",
       "      <th>Country Code</th>\n",
       "      <th>Indicator Name</th>\n",
       "      <th>Indicator Code</th>\n",
       "      <th>1960</th>\n",
       "      <th>1961</th>\n",
       "      <th>1962</th>\n",
       "      <th>1963</th>\n",
       "      <th>1964</th>\n",
       "      <th>1965</th>\n",
       "      <th>...</th>\n",
       "      <th>2016</th>\n",
       "      <th>2017</th>\n",
       "      <th>2018</th>\n",
       "      <th>2019</th>\n",
       "      <th>2020</th>\n",
       "      <th>2021</th>\n",
       "      <th>2022</th>\n",
       "      <th>2023</th>\n",
       "      <th>2024</th>\n",
       "      <th>Unnamed: 69</th>\n",
       "    </tr>\n",
       "  </thead>\n",
       "  <tbody>\n",
       "    <tr>\n",
       "      <th>0</th>\n",
       "      <td>Aruba</td>\n",
       "      <td>ABW</td>\n",
       "      <td>Life expectancy at birth, total (years)</td>\n",
       "      <td>SP.DYN.LE00.IN</td>\n",
       "      <td>64.049000</td>\n",
       "      <td>64.215000</td>\n",
       "      <td>64.60200</td>\n",
       "      <td>64.944000</td>\n",
       "      <td>65.303000</td>\n",
       "      <td>65.615000</td>\n",
       "      <td>...</td>\n",
       "      <td>75.540000</td>\n",
       "      <td>75.620000</td>\n",
       "      <td>75.880000</td>\n",
       "      <td>76.019000</td>\n",
       "      <td>75.406000</td>\n",
       "      <td>73.655000</td>\n",
       "      <td>76.22600</td>\n",
       "      <td>76.353000</td>\n",
       "      <td>NaN</td>\n",
       "      <td>NaN</td>\n",
       "    </tr>\n",
       "    <tr>\n",
       "      <th>1</th>\n",
       "      <td>Africa Eastern and Southern</td>\n",
       "      <td>AFE</td>\n",
       "      <td>Life expectancy at birth, total (years)</td>\n",
       "      <td>SP.DYN.LE00.IN</td>\n",
       "      <td>44.169658</td>\n",
       "      <td>44.468838</td>\n",
       "      <td>44.87789</td>\n",
       "      <td>45.160583</td>\n",
       "      <td>45.535695</td>\n",
       "      <td>45.770723</td>\n",
       "      <td>...</td>\n",
       "      <td>62.167981</td>\n",
       "      <td>62.591275</td>\n",
       "      <td>63.330691</td>\n",
       "      <td>63.857261</td>\n",
       "      <td>63.766484</td>\n",
       "      <td>62.979999</td>\n",
       "      <td>64.48702</td>\n",
       "      <td>65.146291</td>\n",
       "      <td>NaN</td>\n",
       "      <td>NaN</td>\n",
       "    </tr>\n",
       "  </tbody>\n",
       "</table>\n",
       "<p>2 rows × 70 columns</p>\n",
       "</div>"
      ],
      "text/plain": [
       "                  Country Name Country Code  \\\n",
       "0                        Aruba          ABW   \n",
       "1  Africa Eastern and Southern          AFE   \n",
       "\n",
       "                            Indicator Name  Indicator Code       1960  \\\n",
       "0  Life expectancy at birth, total (years)  SP.DYN.LE00.IN  64.049000   \n",
       "1  Life expectancy at birth, total (years)  SP.DYN.LE00.IN  44.169658   \n",
       "\n",
       "        1961      1962       1963       1964       1965  ...       2016  \\\n",
       "0  64.215000  64.60200  64.944000  65.303000  65.615000  ...  75.540000   \n",
       "1  44.468838  44.87789  45.160583  45.535695  45.770723  ...  62.167981   \n",
       "\n",
       "        2017       2018       2019       2020       2021      2022       2023  \\\n",
       "0  75.620000  75.880000  76.019000  75.406000  73.655000  76.22600  76.353000   \n",
       "1  62.591275  63.330691  63.857261  63.766484  62.979999  64.48702  65.146291   \n",
       "\n",
       "   2024  Unnamed: 69  \n",
       "0   NaN          NaN  \n",
       "1   NaN          NaN  \n",
       "\n",
       "[2 rows x 70 columns]"
      ]
     },
     "execution_count": 46,
     "metadata": {},
     "output_type": "execute_result"
    }
   ],
   "source": [
    "life_expectancy = pd.read_csv('../data/life_expectancy.csv', skiprows=3)\n",
    "life_expectancy.head(2)"
   ]
  },
  {
   "cell_type": "markdown",
   "id": "9b3ef905-a2e1-47e9-9810-8a8cc0f14df2",
   "metadata": {},
   "source": [
    "22. Drop the Country Code, Indicator Name, and Indicator Code columns. Then use [`.melt()`](https://pandas.pydata.org/docs/reference/api/pandas.melt.html) to convert your data from wide to long. That is, instead of having one row per country and multiple colums per year, we want to have multiple rows per country and a single column for year. After melting, rename the columns to `Country`, `Year`, and `Life_Expectancy`."
   ]
  },
  {
   "cell_type": "code",
   "execution_count": 47,
   "id": "26f1c1f2-b34f-456c-8b6b-207bae94c490",
   "metadata": {},
   "outputs": [
    {
     "data": {
      "text/plain": [
       "Index(['Country Name', 'Country Code', 'Indicator Name', 'Indicator Code',\n",
       "       '1960', '1961', '1962', '1963', '1964', '1965', '1966', '1967', '1968',\n",
       "       '1969', '1970', '1971', '1972', '1973', '1974', '1975', '1976', '1977',\n",
       "       '1978', '1979', '1980', '1981', '1982', '1983', '1984', '1985', '1986',\n",
       "       '1987', '1988', '1989', '1990', '1991', '1992', '1993', '1994', '1995',\n",
       "       '1996', '1997', '1998', '1999', '2000', '2001', '2002', '2003', '2004',\n",
       "       '2005', '2006', '2007', '2008', '2009', '2010', '2011', '2012', '2013',\n",
       "       '2014', '2015', '2016', '2017', '2018', '2019', '2020', '2021', '2022',\n",
       "       '2023', '2024', 'Unnamed: 69'],\n",
       "      dtype='object')"
      ]
     },
     "execution_count": 47,
     "metadata": {},
     "output_type": "execute_result"
    }
   ],
   "source": [
    "life_expectancy.columns"
   ]
  },
  {
   "cell_type": "code",
   "execution_count": 48,
   "id": "c879e42c-9a10-4232-8b82-84b16a3da475",
   "metadata": {},
   "outputs": [],
   "source": [
    "filter_life_expectancy = life_expectancy.drop(['Country Code', 'Indicator Name', 'Indicator Code', 'Unnamed: 69'], axis=1)"
   ]
  },
  {
   "cell_type": "code",
   "execution_count": 49,
   "id": "d6d379d5-f292-4a1c-a9d6-5c337193cd9c",
   "metadata": {},
   "outputs": [
    {
     "data": {
      "text/html": [
       "<div>\n",
       "<style scoped>\n",
       "    .dataframe tbody tr th:only-of-type {\n",
       "        vertical-align: middle;\n",
       "    }\n",
       "\n",
       "    .dataframe tbody tr th {\n",
       "        vertical-align: top;\n",
       "    }\n",
       "\n",
       "    .dataframe thead th {\n",
       "        text-align: right;\n",
       "    }\n",
       "</style>\n",
       "<table border=\"1\" class=\"dataframe\">\n",
       "  <thead>\n",
       "    <tr style=\"text-align: right;\">\n",
       "      <th></th>\n",
       "      <th>Country Name</th>\n",
       "      <th>1960</th>\n",
       "      <th>1961</th>\n",
       "      <th>1962</th>\n",
       "      <th>1963</th>\n",
       "      <th>1964</th>\n",
       "      <th>1965</th>\n",
       "      <th>1966</th>\n",
       "      <th>1967</th>\n",
       "      <th>1968</th>\n",
       "      <th>...</th>\n",
       "      <th>2015</th>\n",
       "      <th>2016</th>\n",
       "      <th>2017</th>\n",
       "      <th>2018</th>\n",
       "      <th>2019</th>\n",
       "      <th>2020</th>\n",
       "      <th>2021</th>\n",
       "      <th>2022</th>\n",
       "      <th>2023</th>\n",
       "      <th>2024</th>\n",
       "    </tr>\n",
       "  </thead>\n",
       "  <tbody>\n",
       "    <tr>\n",
       "      <th>0</th>\n",
       "      <td>Aruba</td>\n",
       "      <td>64.049000</td>\n",
       "      <td>64.215000</td>\n",
       "      <td>64.602000</td>\n",
       "      <td>64.944000</td>\n",
       "      <td>65.303000</td>\n",
       "      <td>65.615000</td>\n",
       "      <td>66.126000</td>\n",
       "      <td>66.385000</td>\n",
       "      <td>66.744000</td>\n",
       "      <td>...</td>\n",
       "      <td>75.405000</td>\n",
       "      <td>75.540000</td>\n",
       "      <td>75.620000</td>\n",
       "      <td>75.880000</td>\n",
       "      <td>76.019000</td>\n",
       "      <td>75.406000</td>\n",
       "      <td>73.655000</td>\n",
       "      <td>76.226000</td>\n",
       "      <td>76.353000</td>\n",
       "      <td>NaN</td>\n",
       "    </tr>\n",
       "    <tr>\n",
       "      <th>1</th>\n",
       "      <td>Africa Eastern and Southern</td>\n",
       "      <td>44.169658</td>\n",
       "      <td>44.468838</td>\n",
       "      <td>44.877890</td>\n",
       "      <td>45.160583</td>\n",
       "      <td>45.535695</td>\n",
       "      <td>45.770723</td>\n",
       "      <td>45.765725</td>\n",
       "      <td>46.440745</td>\n",
       "      <td>46.738632</td>\n",
       "      <td>...</td>\n",
       "      <td>61.713031</td>\n",
       "      <td>62.167981</td>\n",
       "      <td>62.591275</td>\n",
       "      <td>63.330691</td>\n",
       "      <td>63.857261</td>\n",
       "      <td>63.766484</td>\n",
       "      <td>62.979999</td>\n",
       "      <td>64.487020</td>\n",
       "      <td>65.146291</td>\n",
       "      <td>NaN</td>\n",
       "    </tr>\n",
       "    <tr>\n",
       "      <th>2</th>\n",
       "      <td>Afghanistan</td>\n",
       "      <td>32.799000</td>\n",
       "      <td>33.291000</td>\n",
       "      <td>33.757000</td>\n",
       "      <td>34.201000</td>\n",
       "      <td>34.673000</td>\n",
       "      <td>35.124000</td>\n",
       "      <td>35.583000</td>\n",
       "      <td>36.042000</td>\n",
       "      <td>36.510000</td>\n",
       "      <td>...</td>\n",
       "      <td>62.270000</td>\n",
       "      <td>62.646000</td>\n",
       "      <td>62.406000</td>\n",
       "      <td>62.443000</td>\n",
       "      <td>62.941000</td>\n",
       "      <td>61.454000</td>\n",
       "      <td>60.417000</td>\n",
       "      <td>65.617000</td>\n",
       "      <td>66.035000</td>\n",
       "      <td>NaN</td>\n",
       "    </tr>\n",
       "    <tr>\n",
       "      <th>3</th>\n",
       "      <td>Africa Western and Central</td>\n",
       "      <td>37.779636</td>\n",
       "      <td>38.058956</td>\n",
       "      <td>38.681792</td>\n",
       "      <td>38.936918</td>\n",
       "      <td>39.194580</td>\n",
       "      <td>39.479784</td>\n",
       "      <td>39.719248</td>\n",
       "      <td>39.529359</td>\n",
       "      <td>40.258890</td>\n",
       "      <td>...</td>\n",
       "      <td>56.038336</td>\n",
       "      <td>56.392452</td>\n",
       "      <td>56.626439</td>\n",
       "      <td>57.036976</td>\n",
       "      <td>57.149847</td>\n",
       "      <td>57.364425</td>\n",
       "      <td>57.362572</td>\n",
       "      <td>57.987813</td>\n",
       "      <td>58.855722</td>\n",
       "      <td>NaN</td>\n",
       "    </tr>\n",
       "    <tr>\n",
       "      <th>4</th>\n",
       "      <td>Angola</td>\n",
       "      <td>37.933000</td>\n",
       "      <td>36.902000</td>\n",
       "      <td>37.168000</td>\n",
       "      <td>37.419000</td>\n",
       "      <td>37.704000</td>\n",
       "      <td>37.968000</td>\n",
       "      <td>38.258000</td>\n",
       "      <td>38.616000</td>\n",
       "      <td>38.968000</td>\n",
       "      <td>...</td>\n",
       "      <td>61.042000</td>\n",
       "      <td>61.619000</td>\n",
       "      <td>62.122000</td>\n",
       "      <td>62.622000</td>\n",
       "      <td>63.051000</td>\n",
       "      <td>63.116000</td>\n",
       "      <td>62.958000</td>\n",
       "      <td>64.246000</td>\n",
       "      <td>64.617000</td>\n",
       "      <td>NaN</td>\n",
       "    </tr>\n",
       "  </tbody>\n",
       "</table>\n",
       "<p>5 rows × 66 columns</p>\n",
       "</div>"
      ],
      "text/plain": [
       "                  Country Name       1960       1961       1962       1963  \\\n",
       "0                        Aruba  64.049000  64.215000  64.602000  64.944000   \n",
       "1  Africa Eastern and Southern  44.169658  44.468838  44.877890  45.160583   \n",
       "2                  Afghanistan  32.799000  33.291000  33.757000  34.201000   \n",
       "3   Africa Western and Central  37.779636  38.058956  38.681792  38.936918   \n",
       "4                       Angola  37.933000  36.902000  37.168000  37.419000   \n",
       "\n",
       "        1964       1965       1966       1967       1968  ...       2015  \\\n",
       "0  65.303000  65.615000  66.126000  66.385000  66.744000  ...  75.405000   \n",
       "1  45.535695  45.770723  45.765725  46.440745  46.738632  ...  61.713031   \n",
       "2  34.673000  35.124000  35.583000  36.042000  36.510000  ...  62.270000   \n",
       "3  39.194580  39.479784  39.719248  39.529359  40.258890  ...  56.038336   \n",
       "4  37.704000  37.968000  38.258000  38.616000  38.968000  ...  61.042000   \n",
       "\n",
       "        2016       2017       2018       2019       2020       2021  \\\n",
       "0  75.540000  75.620000  75.880000  76.019000  75.406000  73.655000   \n",
       "1  62.167981  62.591275  63.330691  63.857261  63.766484  62.979999   \n",
       "2  62.646000  62.406000  62.443000  62.941000  61.454000  60.417000   \n",
       "3  56.392452  56.626439  57.036976  57.149847  57.364425  57.362572   \n",
       "4  61.619000  62.122000  62.622000  63.051000  63.116000  62.958000   \n",
       "\n",
       "        2022       2023  2024  \n",
       "0  76.226000  76.353000   NaN  \n",
       "1  64.487020  65.146291   NaN  \n",
       "2  65.617000  66.035000   NaN  \n",
       "3  57.987813  58.855722   NaN  \n",
       "4  64.246000  64.617000   NaN  \n",
       "\n",
       "[5 rows x 66 columns]"
      ]
     },
     "execution_count": 49,
     "metadata": {},
     "output_type": "execute_result"
    }
   ],
   "source": [
    "filter_life_expectancy.head()"
   ]
  },
  {
   "cell_type": "code",
   "execution_count": 50,
   "id": "de979a1a-48ff-4622-af2e-792b34601536",
   "metadata": {},
   "outputs": [],
   "source": [
    "life_expectancy_melt = filter_life_expectancy.melt(\n",
    "    id_vars= 'Country Name',\n",
    "    value_name= 'Life Expectancy',\n",
    "    var_name= 'Year')"
   ]
  },
  {
   "cell_type": "code",
   "execution_count": 51,
   "id": "5b82a312-cf51-4eea-aa9b-9c85ddf5feec",
   "metadata": {},
   "outputs": [],
   "source": [
    "life_expectancy_df = life_expectancy_melt.rename(columns={ 'Country Name' : 'Country'})"
   ]
  },
  {
   "cell_type": "code",
   "execution_count": 52,
   "id": "b9c9e78a-fcc3-4f04-9f96-4e34fc7199cd",
   "metadata": {},
   "outputs": [
    {
     "data": {
      "text/html": [
       "<div>\n",
       "<style scoped>\n",
       "    .dataframe tbody tr th:only-of-type {\n",
       "        vertical-align: middle;\n",
       "    }\n",
       "\n",
       "    .dataframe tbody tr th {\n",
       "        vertical-align: top;\n",
       "    }\n",
       "\n",
       "    .dataframe thead th {\n",
       "        text-align: right;\n",
       "    }\n",
       "</style>\n",
       "<table border=\"1\" class=\"dataframe\">\n",
       "  <thead>\n",
       "    <tr style=\"text-align: right;\">\n",
       "      <th></th>\n",
       "      <th>Country</th>\n",
       "      <th>Year</th>\n",
       "      <th>Life Expectancy</th>\n",
       "    </tr>\n",
       "  </thead>\n",
       "  <tbody>\n",
       "    <tr>\n",
       "      <th>0</th>\n",
       "      <td>Aruba</td>\n",
       "      <td>1960</td>\n",
       "      <td>64.049000</td>\n",
       "    </tr>\n",
       "    <tr>\n",
       "      <th>1</th>\n",
       "      <td>Africa Eastern and Southern</td>\n",
       "      <td>1960</td>\n",
       "      <td>44.169658</td>\n",
       "    </tr>\n",
       "    <tr>\n",
       "      <th>2</th>\n",
       "      <td>Afghanistan</td>\n",
       "      <td>1960</td>\n",
       "      <td>32.799000</td>\n",
       "    </tr>\n",
       "    <tr>\n",
       "      <th>3</th>\n",
       "      <td>Africa Western and Central</td>\n",
       "      <td>1960</td>\n",
       "      <td>37.779636</td>\n",
       "    </tr>\n",
       "    <tr>\n",
       "      <th>4</th>\n",
       "      <td>Angola</td>\n",
       "      <td>1960</td>\n",
       "      <td>37.933000</td>\n",
       "    </tr>\n",
       "  </tbody>\n",
       "</table>\n",
       "</div>"
      ],
      "text/plain": [
       "                       Country  Year  Life Expectancy\n",
       "0                        Aruba  1960        64.049000\n",
       "1  Africa Eastern and Southern  1960        44.169658\n",
       "2                  Afghanistan  1960        32.799000\n",
       "3   Africa Western and Central  1960        37.779636\n",
       "4                       Angola  1960        37.933000"
      ]
     },
     "execution_count": 52,
     "metadata": {},
     "output_type": "execute_result"
    }
   ],
   "source": [
    "life_expectancy_df.head()"
   ]
  },
  {
   "cell_type": "markdown",
   "id": "bc370d8e-dbad-4ccb-be5c-a87ed6c7823b",
   "metadata": {},
   "source": [
    "23. What was the first country with a life expectancy to exceed 80?"
   ]
  },
  {
   "cell_type": "code",
   "execution_count": 53,
   "id": "f34df868-e1aa-4127-92f4-3794935aede0",
   "metadata": {},
   "outputs": [
    {
     "name": "stdout",
     "output_type": "stream",
     "text": [
      "Country            Monaco\n",
      "Year                 1992\n",
      "Life Expectancy    80.065\n",
      "Name: 8661, dtype: object\n"
     ]
    }
   ],
   "source": [
    "print(life_expectancy_df[life_expectancy_df['Life Expectancy'] > 80].sort_values('Year').iloc[0])"
   ]
  },
  {
   "cell_type": "markdown",
   "id": "bbebfdea-ec8a-4bf6-8de9-f9c16cb6865c",
   "metadata": {},
   "source": [
    "24. Merge `gdp_df` and `life_expectancy`, keeping all countries and years that appear in both DataFrames. Save the result to a new DataFrame named `gdp_le`. If you get any errors in doing this, read them carefully and correct them. Look at the first five rows of your new data frame to confirm it merged correctly. Also, check the last five rows to make sure the data is clean and as expected."
   ]
  },
  {
   "cell_type": "code",
   "execution_count": null,
   "id": "ce7eccb5-c20b-490c-bf3d-059945bd82ad",
   "metadata": {},
   "outputs": [],
   "source": []
  },
  {
   "cell_type": "code",
   "execution_count": 54,
   "id": "d2e4ed15-e20a-4f13-a2e1-01d80527cdde",
   "metadata": {},
   "outputs": [
    {
     "data": {
      "text/html": [
       "<div>\n",
       "<style scoped>\n",
       "    .dataframe tbody tr th:only-of-type {\n",
       "        vertical-align: middle;\n",
       "    }\n",
       "\n",
       "    .dataframe tbody tr th {\n",
       "        vertical-align: top;\n",
       "    }\n",
       "\n",
       "    .dataframe thead th {\n",
       "        text-align: right;\n",
       "    }\n",
       "</style>\n",
       "<table border=\"1\" class=\"dataframe\">\n",
       "  <thead>\n",
       "    <tr style=\"text-align: right;\">\n",
       "      <th></th>\n",
       "      <th>Country</th>\n",
       "      <th>Year</th>\n",
       "      <th>GDP Per Capita</th>\n",
       "      <th>Continent</th>\n",
       "    </tr>\n",
       "  </thead>\n",
       "  <tbody>\n",
       "    <tr>\n",
       "      <th>0</th>\n",
       "      <td>Afghanistan</td>\n",
       "      <td>2023</td>\n",
       "      <td>1992.424394</td>\n",
       "      <td>Asia</td>\n",
       "    </tr>\n",
       "    <tr>\n",
       "      <th>1</th>\n",
       "      <td>Afghanistan</td>\n",
       "      <td>2022</td>\n",
       "      <td>1981.710168</td>\n",
       "      <td>Asia</td>\n",
       "    </tr>\n",
       "    <tr>\n",
       "      <th>2</th>\n",
       "      <td>Afghanistan</td>\n",
       "      <td>2021</td>\n",
       "      <td>2144.166570</td>\n",
       "      <td>Asia</td>\n",
       "    </tr>\n",
       "    <tr>\n",
       "      <th>3</th>\n",
       "      <td>Afghanistan</td>\n",
       "      <td>2020</td>\n",
       "      <td>2769.685745</td>\n",
       "      <td>Asia</td>\n",
       "    </tr>\n",
       "    <tr>\n",
       "      <th>4</th>\n",
       "      <td>Afghanistan</td>\n",
       "      <td>2019</td>\n",
       "      <td>2927.245144</td>\n",
       "      <td>Asia</td>\n",
       "    </tr>\n",
       "  </tbody>\n",
       "</table>\n",
       "</div>"
      ],
      "text/plain": [
       "       Country  Year  GDP Per Capita Continent\n",
       "0  Afghanistan  2023     1992.424394      Asia\n",
       "1  Afghanistan  2022     1981.710168      Asia\n",
       "2  Afghanistan  2021     2144.166570      Asia\n",
       "3  Afghanistan  2020     2769.685745      Asia\n",
       "4  Afghanistan  2019     2927.245144      Asia"
      ]
     },
     "execution_count": 54,
     "metadata": {},
     "output_type": "execute_result"
    }
   ],
   "source": [
    "gdp_df.head()"
   ]
  },
  {
   "cell_type": "code",
   "execution_count": 55,
   "id": "667a76d9-c1e5-4f80-9d54-90c760156a86",
   "metadata": {},
   "outputs": [
    {
     "data": {
      "text/html": [
       "<div>\n",
       "<style scoped>\n",
       "    .dataframe tbody tr th:only-of-type {\n",
       "        vertical-align: middle;\n",
       "    }\n",
       "\n",
       "    .dataframe tbody tr th {\n",
       "        vertical-align: top;\n",
       "    }\n",
       "\n",
       "    .dataframe thead th {\n",
       "        text-align: right;\n",
       "    }\n",
       "</style>\n",
       "<table border=\"1\" class=\"dataframe\">\n",
       "  <thead>\n",
       "    <tr style=\"text-align: right;\">\n",
       "      <th></th>\n",
       "      <th>Country</th>\n",
       "      <th>Year</th>\n",
       "      <th>Life Expectancy</th>\n",
       "    </tr>\n",
       "  </thead>\n",
       "  <tbody>\n",
       "    <tr>\n",
       "      <th>0</th>\n",
       "      <td>Aruba</td>\n",
       "      <td>1960</td>\n",
       "      <td>64.049000</td>\n",
       "    </tr>\n",
       "    <tr>\n",
       "      <th>1</th>\n",
       "      <td>Africa Eastern and Southern</td>\n",
       "      <td>1960</td>\n",
       "      <td>44.169658</td>\n",
       "    </tr>\n",
       "    <tr>\n",
       "      <th>2</th>\n",
       "      <td>Afghanistan</td>\n",
       "      <td>1960</td>\n",
       "      <td>32.799000</td>\n",
       "    </tr>\n",
       "    <tr>\n",
       "      <th>3</th>\n",
       "      <td>Africa Western and Central</td>\n",
       "      <td>1960</td>\n",
       "      <td>37.779636</td>\n",
       "    </tr>\n",
       "    <tr>\n",
       "      <th>4</th>\n",
       "      <td>Angola</td>\n",
       "      <td>1960</td>\n",
       "      <td>37.933000</td>\n",
       "    </tr>\n",
       "  </tbody>\n",
       "</table>\n",
       "</div>"
      ],
      "text/plain": [
       "                       Country  Year  Life Expectancy\n",
       "0                        Aruba  1960        64.049000\n",
       "1  Africa Eastern and Southern  1960        44.169658\n",
       "2                  Afghanistan  1960        32.799000\n",
       "3   Africa Western and Central  1960        37.779636\n",
       "4                       Angola  1960        37.933000"
      ]
     },
     "execution_count": 55,
     "metadata": {},
     "output_type": "execute_result"
    }
   ],
   "source": [
    "life_expectancy_df.head()"
   ]
  },
  {
   "cell_type": "code",
   "execution_count": 56,
   "id": "3a4bc7da-370f-4d35-b625-2df822173a99",
   "metadata": {},
   "outputs": [],
   "source": [
    "gdp_df['Year']= gdp_df['Year'].astype(str)"
   ]
  },
  {
   "cell_type": "code",
   "execution_count": 57,
   "id": "8d27a18d-eb25-4549-928c-4151d756d41f",
   "metadata": {},
   "outputs": [],
   "source": [
    "life_expectancy_df['Year'] = life_expectancy_df['Year'].astype(str)"
   ]
  },
  {
   "cell_type": "code",
   "execution_count": 58,
   "id": "b34488d6-6829-4498-ad4b-29e2784dbd37",
   "metadata": {},
   "outputs": [],
   "source": [
    "gdp_le = pd.merge(gdp_df, life_expectancy_df,\n",
    "how='inner', on=['Country', 'Year'])"
   ]
  },
  {
   "cell_type": "code",
   "execution_count": 59,
   "id": "de9fa160-6f71-4d6d-bf68-a1d7b33e89df",
   "metadata": {},
   "outputs": [
    {
     "data": {
      "text/plain": [
       "(       Country  Year  GDP Per Capita Continent  Life Expectancy\n",
       " 0  Afghanistan  2023     1992.424394      Asia           66.035\n",
       " 1  Afghanistan  2022     1981.710168      Asia           65.617\n",
       " 2  Afghanistan  2021     2144.166570      Asia           60.417\n",
       " 3  Afghanistan  2020     2769.685745      Asia           61.454\n",
       " 4  Afghanistan  2019     2927.245144      Asia           62.941,\n",
       "        Country  Year  GDP Per Capita Continent  Life Expectancy\n",
       " 5851  Zimbabwe  1994     3965.730986    Africa           52.537\n",
       " 5852  Zimbabwe  1993     3634.750494    Africa           53.976\n",
       " 5853  Zimbabwe  1992     3649.891947    Africa           55.602\n",
       " 5854  Zimbabwe  1991     4126.405247    Africa           57.037\n",
       " 5855  Zimbabwe  1990     4013.299059    Africa           58.319)"
      ]
     },
     "execution_count": 59,
     "metadata": {},
     "output_type": "execute_result"
    }
   ],
   "source": [
    "gdp_le.head(), gdp_le.tail()"
   ]
  },
  {
   "cell_type": "markdown",
   "id": "888aca41-e0e5-48a4-824f-2a6da74bd18b",
   "metadata": {},
   "source": [
    "25. Create a new DataFrame, named `gdp_le_2021` by extracting data for the year 2021 from `gdp_le`. How many countries have a life expectancy of at least 80 in 2021?"
   ]
  },
  {
   "cell_type": "code",
   "execution_count": 60,
   "id": "0b2fbfac-4cb7-4360-b42c-7526903a7608",
   "metadata": {},
   "outputs": [],
   "source": [
    "gdp_le_2021 = gdp_le[gdp_le['Year'] == '2021'].copy()"
   ]
  },
  {
   "cell_type": "code",
   "execution_count": null,
   "id": "00157140-3a33-40be-b5f6-c38bd7cf6ee2",
   "metadata": {},
   "outputs": [],
   "source": []
  },
  {
   "cell_type": "code",
   "execution_count": null,
   "id": "780604ee-4e04-4551-a166-dacfdb88fe97",
   "metadata": {},
   "outputs": [],
   "source": []
  },
  {
   "cell_type": "code",
   "execution_count": null,
   "id": "66ef22ef-a771-46ec-a89a-3dfa30732d3d",
   "metadata": {},
   "outputs": [],
   "source": []
  },
  {
   "cell_type": "code",
   "execution_count": 61,
   "id": "53fa618f-adbe-40d0-bf02-b832ed598e62",
   "metadata": {},
   "outputs": [
    {
     "data": {
      "text/html": [
       "<div>\n",
       "<style scoped>\n",
       "    .dataframe tbody tr th:only-of-type {\n",
       "        vertical-align: middle;\n",
       "    }\n",
       "\n",
       "    .dataframe tbody tr th {\n",
       "        vertical-align: top;\n",
       "    }\n",
       "\n",
       "    .dataframe thead th {\n",
       "        text-align: right;\n",
       "    }\n",
       "</style>\n",
       "<table border=\"1\" class=\"dataframe\">\n",
       "  <thead>\n",
       "    <tr style=\"text-align: right;\">\n",
       "      <th></th>\n",
       "      <th>Country</th>\n",
       "      <th>Year</th>\n",
       "      <th>GDP Per Capita</th>\n",
       "      <th>Continent</th>\n",
       "      <th>Life Expectancy</th>\n",
       "    </tr>\n",
       "  </thead>\n",
       "  <tbody>\n",
       "    <tr>\n",
       "      <th>2</th>\n",
       "      <td>Afghanistan</td>\n",
       "      <td>2021</td>\n",
       "      <td>2144.166570</td>\n",
       "      <td>Asia</td>\n",
       "      <td>60.417</td>\n",
       "    </tr>\n",
       "    <tr>\n",
       "      <th>26</th>\n",
       "      <td>Albania</td>\n",
       "      <td>2021</td>\n",
       "      <td>16113.136519</td>\n",
       "      <td>Europe</td>\n",
       "      <td>76.844</td>\n",
       "    </tr>\n",
       "    <tr>\n",
       "      <th>60</th>\n",
       "      <td>Algeria</td>\n",
       "      <td>2021</td>\n",
       "      <td>14496.865470</td>\n",
       "      <td>Africa</td>\n",
       "      <td>75.208</td>\n",
       "    </tr>\n",
       "    <tr>\n",
       "      <th>94</th>\n",
       "      <td>Andorra</td>\n",
       "      <td>2021</td>\n",
       "      <td>59332.202910</td>\n",
       "      <td>Europe</td>\n",
       "      <td>82.331</td>\n",
       "    </tr>\n",
       "    <tr>\n",
       "      <th>128</th>\n",
       "      <td>Angola</td>\n",
       "      <td>2021</td>\n",
       "      <td>7408.126591</td>\n",
       "      <td>Africa</td>\n",
       "      <td>62.958</td>\n",
       "    </tr>\n",
       "  </tbody>\n",
       "</table>\n",
       "</div>"
      ],
      "text/plain": [
       "         Country  Year  GDP Per Capita Continent  Life Expectancy\n",
       "2    Afghanistan  2021     2144.166570      Asia           60.417\n",
       "26       Albania  2021    16113.136519    Europe           76.844\n",
       "60       Algeria  2021    14496.865470    Africa           75.208\n",
       "94       Andorra  2021    59332.202910    Europe           82.331\n",
       "128       Angola  2021     7408.126591    Africa           62.958"
      ]
     },
     "execution_count": 61,
     "metadata": {},
     "output_type": "execute_result"
    }
   ],
   "source": [
    "gdp_le_2021.head()"
   ]
  },
  {
   "cell_type": "code",
   "execution_count": 62,
   "id": "03545523-d01a-4036-b5c2-112fb2f44053",
   "metadata": {},
   "outputs": [
    {
     "data": {
      "text/plain": [
       "np.int64(33)"
      ]
     },
     "execution_count": 62,
     "metadata": {},
     "output_type": "execute_result"
    }
   ],
   "source": [
    "(gdp_le_2021['Life Expectancy'] >= 80).sum()"
   ]
  },
  {
   "cell_type": "markdown",
   "id": "c7f6a38d-21ef-41db-9622-766e753296a1",
   "metadata": {},
   "source": [
    "26. Find the countries that had the top 3 largest GDP per capita figures for 2021. Create a [seaborn FacetGrid](https://seaborn.pydata.org/generated/seaborn.FacetGrid.html) showing the change in life expectancy over time for these three countries. Each individual figure in the facet grid will represent a single country."
   ]
  },
  {
   "cell_type": "code",
   "execution_count": 63,
   "id": "7e3c6065-e747-417e-a9b8-579a4bb480d3",
   "metadata": {},
   "outputs": [],
   "source": [
    "top3_2021 = gdp_le_2021.nlargest(3, 'GDP Per Capita') "
   ]
  },
  {
   "cell_type": "code",
   "execution_count": 64,
   "id": "7453ff60-a0b0-41d7-8b56-e9ec9c51ea2a",
   "metadata": {},
   "outputs": [
    {
     "data": {
      "text/html": [
       "<div>\n",
       "<style scoped>\n",
       "    .dataframe tbody tr th:only-of-type {\n",
       "        vertical-align: middle;\n",
       "    }\n",
       "\n",
       "    .dataframe tbody tr th {\n",
       "        vertical-align: top;\n",
       "    }\n",
       "\n",
       "    .dataframe thead th {\n",
       "        text-align: right;\n",
       "    }\n",
       "</style>\n",
       "<table border=\"1\" class=\"dataframe\">\n",
       "  <thead>\n",
       "    <tr style=\"text-align: right;\">\n",
       "      <th></th>\n",
       "      <th>Country</th>\n",
       "      <th>Year</th>\n",
       "      <th>GDP Per Capita</th>\n",
       "      <th>Continent</th>\n",
       "      <th>Life Expectancy</th>\n",
       "    </tr>\n",
       "  </thead>\n",
       "  <tbody>\n",
       "    <tr>\n",
       "      <th>3061</th>\n",
       "      <td>Luxembourg</td>\n",
       "      <td>2021</td>\n",
       "      <td>135379.291201</td>\n",
       "      <td>Europe</td>\n",
       "      <td>82.597561</td>\n",
       "    </tr>\n",
       "    <tr>\n",
       "      <th>4673</th>\n",
       "      <td>Singapore</td>\n",
       "      <td>2021</td>\n",
       "      <td>131864.092336</td>\n",
       "      <td>Asia</td>\n",
       "      <td>83.092683</td>\n",
       "    </tr>\n",
       "    <tr>\n",
       "      <th>2434</th>\n",
       "      <td>Ireland</td>\n",
       "      <td>2021</td>\n",
       "      <td>118594.746862</td>\n",
       "      <td>Europe</td>\n",
       "      <td>82.253659</td>\n",
       "    </tr>\n",
       "  </tbody>\n",
       "</table>\n",
       "</div>"
      ],
      "text/plain": [
       "         Country  Year  GDP Per Capita Continent  Life Expectancy\n",
       "3061  Luxembourg  2021   135379.291201    Europe        82.597561\n",
       "4673   Singapore  2021   131864.092336      Asia        83.092683\n",
       "2434     Ireland  2021   118594.746862    Europe        82.253659"
      ]
     },
     "execution_count": 64,
     "metadata": {},
     "output_type": "execute_result"
    }
   ],
   "source": [
    "top3_2021.head()"
   ]
  },
  {
   "cell_type": "code",
   "execution_count": 65,
   "id": "e52ee1cf-87c2-4761-917d-b7dec6e561d7",
   "metadata": {},
   "outputs": [],
   "source": [
    "top3 = gdp_le[gdp_le['Country'].isin(['Luxembourg', 'Singapore', 'Ireland'])].copy()"
   ]
  },
  {
   "cell_type": "code",
   "execution_count": 66,
   "id": "8f148145-0681-4d19-a937-038cb0c99e3a",
   "metadata": {},
   "outputs": [],
   "source": [
    "top3['Year'] = top3['Year'].astype('int')"
   ]
  },
  {
   "cell_type": "code",
   "execution_count": 67,
   "id": "9aa76797-014e-478c-9cda-1280de9caeac",
   "metadata": {},
   "outputs": [
    {
     "data": {
      "image/png": "[encoded data removed]",
      "text/plain": [
       "<Figure size 900x300 with 3 Axes>"
      ]
     },
     "metadata": {},
     "output_type": "display_data"
    }
   ],
   "source": [
    "g = sns.FacetGrid(data = top3, col= 'Country',  sharey=True)\n",
    "g.map_dataframe(sns.lineplot, x='Year', y='Life Expectancy')\n",
    "g.tick_params(axis='x', rotation = 45, labelsize = 6);"
   ]
  },
  {
   "cell_type": "code",
   "execution_count": 68,
   "id": "df6be715-1440-42ae-9221-1793ee97863a",
   "metadata": {},
   "outputs": [
    {
     "name": "stdout",
     "output_type": "stream",
     "text": [
      "<class 'pandas.core.frame.DataFrame'>\n",
      "Index: 102 entries, 2432 to 4704\n",
      "Data columns (total 5 columns):\n",
      " #   Column           Non-Null Count  Dtype  \n",
      "---  ------           --------------  -----  \n",
      " 0   Country          102 non-null    object \n",
      " 1   Year             102 non-null    int64  \n",
      " 2   GDP Per Capita   102 non-null    float64\n",
      " 3   Continent        102 non-null    object \n",
      " 4   Life Expectancy  102 non-null    float64\n",
      "dtypes: float64(2), int64(1), object(2)\n",
      "memory usage: 4.8+ KB\n"
     ]
    }
   ],
   "source": [
    "top3.info()"
   ]
  },
  {
   "cell_type": "markdown",
   "id": "b861125f-25b5-40f4-a81d-08f97fa14877",
   "metadata": {},
   "source": [
    "27. Create a scatter plot of Life Expectancy vs GDP per Capita for the year 2021. What do you notice?"
   ]
  },
  {
   "cell_type": "code",
   "execution_count": 69,
   "id": "1a9aaa67-1795-4b6d-8152-e64ad491525b",
   "metadata": {},
   "outputs": [
    {
     "data": {
      "image/png": "[encoded data removed]",
      "text/plain": [
       "<Figure size 640x480 with 1 Axes>"
      ]
     },
     "metadata": {},
     "output_type": "display_data"
    }
   ],
   "source": [
    "gdp_le_2021.plot(\n",
    "    kind=\"scatter\",\n",
    "    y=\"GDP Per Capita\",\n",
    "    x=\"Life Expectancy\"\n",
    ");"
   ]
  },
  {
   "cell_type": "markdown",
   "id": "04a0598c-8edc-41ee-8cd1-9a1160a595d1",
   "metadata": {},
   "source": [
    "There is a poitive correlation between GDP per Capita and Life Expectancy."
   ]
  },
  {
   "cell_type": "markdown",
   "id": "8edb3230-a73f-4bc5-bd0e-412ade4aaf59",
   "metadata": {},
   "source": [
    "28. Find the correlation between Life Expectancy and GDP per Capita for the year 2021. What is the meaning of this number?"
   ]
  },
  {
   "cell_type": "code",
   "execution_count": 70,
   "id": "10324e3a-a7a1-4d29-b92b-b0001daa2c57",
   "metadata": {},
   "outputs": [
    {
     "data": {
      "text/html": [
       "<div>\n",
       "<style scoped>\n",
       "    .dataframe tbody tr th:only-of-type {\n",
       "        vertical-align: middle;\n",
       "    }\n",
       "\n",
       "    .dataframe tbody tr th {\n",
       "        vertical-align: top;\n",
       "    }\n",
       "\n",
       "    .dataframe thead th {\n",
       "        text-align: right;\n",
       "    }\n",
       "</style>\n",
       "<table border=\"1\" class=\"dataframe\">\n",
       "  <thead>\n",
       "    <tr style=\"text-align: right;\">\n",
       "      <th></th>\n",
       "      <th>Life Expectancy</th>\n",
       "      <th>GDP Per Capita</th>\n",
       "    </tr>\n",
       "  </thead>\n",
       "  <tbody>\n",
       "    <tr>\n",
       "      <th>Life Expectancy</th>\n",
       "      <td>1.000000</td>\n",
       "      <td>0.752785</td>\n",
       "    </tr>\n",
       "    <tr>\n",
       "      <th>GDP Per Capita</th>\n",
       "      <td>0.752785</td>\n",
       "      <td>1.000000</td>\n",
       "    </tr>\n",
       "  </tbody>\n",
       "</table>\n",
       "</div>"
      ],
      "text/plain": [
       "                 Life Expectancy  GDP Per Capita\n",
       "Life Expectancy         1.000000        0.752785\n",
       "GDP Per Capita          0.752785        1.000000"
      ]
     },
     "execution_count": 70,
     "metadata": {},
     "output_type": "execute_result"
    }
   ],
   "source": [
    "gdp_le_2021[['Life Expectancy', 'GDP Per Capita']].corr()"
   ]
  },
  {
   "cell_type": "markdown",
   "id": "c7a35de4-40c5-4433-8123-184dea2ded40",
   "metadata": {},
   "source": [
    "There is a positive correlation."
   ]
  },
  {
   "cell_type": "markdown",
   "id": "022d5065-9202-4111-a01b-ceba42abcb36",
   "metadata": {},
   "source": [
    "29. Add a column to `gdp_le_2021` and calculate the logarithm of GDP per capita. Find the correlation between the log of GDP per capita and life expectancy. How does this compare to the calculation in the previous part? Look at a scatter plot to see if the result of this calculation makes sense."
   ]
  },
  {
   "cell_type": "code",
   "execution_count": 71,
   "id": "231936ee-4a0c-494f-afb4-4baa98a27714",
   "metadata": {},
   "outputs": [],
   "source": [
    "gdp_le_2021['Log GDP Per Capita'] = np.log(gdp_le_2021['GDP Per Capita'])"
   ]
  },
  {
   "cell_type": "code",
   "execution_count": 72,
   "id": "c742cafd-7cc4-456c-8afe-68f781fae5ff",
   "metadata": {},
   "outputs": [
    {
     "data": {
      "text/html": [
       "<div>\n",
       "<style scoped>\n",
       "    .dataframe tbody tr th:only-of-type {\n",
       "        vertical-align: middle;\n",
       "    }\n",
       "\n",
       "    .dataframe tbody tr th {\n",
       "        vertical-align: top;\n",
       "    }\n",
       "\n",
       "    .dataframe thead th {\n",
       "        text-align: right;\n",
       "    }\n",
       "</style>\n",
       "<table border=\"1\" class=\"dataframe\">\n",
       "  <thead>\n",
       "    <tr style=\"text-align: right;\">\n",
       "      <th></th>\n",
       "      <th>Life Expectancy</th>\n",
       "      <th>Log GDP Per Capita</th>\n",
       "    </tr>\n",
       "  </thead>\n",
       "  <tbody>\n",
       "    <tr>\n",
       "      <th>Life Expectancy</th>\n",
       "      <td>1.000000</td>\n",
       "      <td>0.849065</td>\n",
       "    </tr>\n",
       "    <tr>\n",
       "      <th>Log GDP Per Capita</th>\n",
       "      <td>0.849065</td>\n",
       "      <td>1.000000</td>\n",
       "    </tr>\n",
       "  </tbody>\n",
       "</table>\n",
       "</div>"
      ],
      "text/plain": [
       "                    Life Expectancy  Log GDP Per Capita\n",
       "Life Expectancy            1.000000            0.849065\n",
       "Log GDP Per Capita         0.849065            1.000000"
      ]
     },
     "execution_count": 72,
     "metadata": {},
     "output_type": "execute_result"
    }
   ],
   "source": [
    "gdp_le_2021[['Life Expectancy', 'Log GDP Per Capita']].corr()"
   ]
  },
  {
   "cell_type": "code",
   "execution_count": 73,
   "id": "79a2d440-f828-40d6-94bf-5581e3dce1d7",
   "metadata": {},
   "outputs": [
    {
     "data": {
      "image/png": "[encoded data removed]",
      "text/plain": [
       "<Figure size 640x480 with 1 Axes>"
      ]
     },
     "metadata": {},
     "output_type": "display_data"
    }
   ],
   "source": [
    "gdp_le_2021.plot(\n",
    "    kind=\"scatter\",\n",
    "    y=\"Log GDP Per Capita\",\n",
    "    x=\"Life Expectancy\"\n",
    ");"
   ]
  },
  {
   "cell_type": "markdown",
   "id": "2739655a-a237-434f-b336-717ce56c7115",
   "metadata": {},
   "source": [
    "### Bonus: Solo Exploration:\n",
    "1. Choose and download another data set from the UN data [http://data.un.org/Explorer.aspx](http://data.un.org/Explorer.aspx) to explore. You may want to combine your new dataset with one or both of the datasets that you already worked with. Report any interesting correlations or trends that you find. "
   ]
  },
  {
   "cell_type": "code",
   "execution_count": 74,
   "id": "a78cbcaa-63b9-489b-9c27-c85ec188df15",
   "metadata": {},
   "outputs": [
    {
     "data": {
      "text/html": [
       "<div>\n",
       "<style scoped>\n",
       "    .dataframe tbody tr th:only-of-type {\n",
       "        vertical-align: middle;\n",
       "    }\n",
       "\n",
       "    .dataframe tbody tr th {\n",
       "        vertical-align: top;\n",
       "    }\n",
       "\n",
       "    .dataframe thead th {\n",
       "        text-align: right;\n",
       "    }\n",
       "</style>\n",
       "<table border=\"1\" class=\"dataframe\">\n",
       "  <thead>\n",
       "    <tr style=\"text-align: right;\">\n",
       "      <th></th>\n",
       "      <th>OID</th>\n",
       "      <th>Country or Area</th>\n",
       "      <th>Year</th>\n",
       "      <th>Description</th>\n",
       "      <th>Magnitude</th>\n",
       "      <th>Value</th>\n",
       "    </tr>\n",
       "  </thead>\n",
       "  <tbody>\n",
       "    <tr>\n",
       "      <th>0</th>\n",
       "      <td>51260K.FZF...</td>\n",
       "      <td>AFGHANISTAN, I.R. OF</td>\n",
       "      <td>2009</td>\n",
       "      <td>SAVINGS RATE (FOREIGN CURRENCY)</td>\n",
       "      <td>PERCENT PER ANNU</td>\n",
       "      <td>4.2750</td>\n",
       "    </tr>\n",
       "    <tr>\n",
       "      <th>1</th>\n",
       "      <td>51260K..ZF...</td>\n",
       "      <td>AFGHANISTAN, I.R. OF</td>\n",
       "      <td>2009</td>\n",
       "      <td>SAVINGS RATE</td>\n",
       "      <td>PERCENT PER ANNU</td>\n",
       "      <td>7.0775</td>\n",
       "    </tr>\n",
       "  </tbody>\n",
       "</table>\n",
       "</div>"
      ],
      "text/plain": [
       "             OID       Country or Area  Year                      Description  \\\n",
       "0  51260K.FZF...  AFGHANISTAN, I.R. OF  2009  SAVINGS RATE (FOREIGN CURRENCY)   \n",
       "1  51260K..ZF...  AFGHANISTAN, I.R. OF  2009                     SAVINGS RATE   \n",
       "\n",
       "          Magnitude   Value  \n",
       "0  PERCENT PER ANNU  4.2750  \n",
       "1  PERCENT PER ANNU  7.0775  "
      ]
     },
     "execution_count": 74,
     "metadata": {},
     "output_type": "execute_result"
    }
   ],
   "source": [
    "interest_rates = pd.read_csv('../data/interest_rates.csv')\n",
    "interest_rates.head(2)"
   ]
  },
  {
   "cell_type": "markdown",
   "id": "99f38738-2281-4035-9261-24ab840d44aa",
   "metadata": {},
   "source": [
    "2.    If time allows, check out the plotly library to add additional interativity to your plots. [https://plotly.com/python/plotly-express/](https://plotly.com/python/plotly-express/)."
   ]
  },
  {
   "cell_type": "code",
   "execution_count": 75,
   "id": "ddaa6ceb-e5a5-4be0-ac27-7f3501bd5c4a",
   "metadata": {},
   "outputs": [
    {
     "data": {
      "text/plain": [
       "(6263, 4)"
      ]
     },
     "execution_count": 75,
     "metadata": {},
     "output_type": "execute_result"
    }
   ],
   "source": [
    "gdp_df.shape"
   ]
  },
  {
   "cell_type": "code",
   "execution_count": null,
   "id": "1d1faa8c-d050-4868-8c5c-b8593cbbabf1",
   "metadata": {},
   "outputs": [],
   "source": []
  },
  {
   "cell_type": "code",
   "execution_count": null,
   "id": "b71d02b5-08a3-4ba6-b92d-99a5525c37d9",
   "metadata": {},
   "outputs": [],
   "source": []
  },
  {
   "cell_type": "code",
   "execution_count": null,
   "id": "a6248072-b054-4e47-b24f-9ec8bdefd042",
   "metadata": {},
   "outputs": [],
   "source": []
  },
  {
   "cell_type": "code",
   "execution_count": null,
   "id": "01e016be-4311-43b0-90ee-aefaedfafae3",
   "metadata": {},
   "outputs": [],
   "source": []
  }
 ],
 "metadata": {
  "kernelspec": {
   "display_name": "Python [conda env:base] *",
   "language": "python",
   "name": "conda-base-py"
  },
  "language_info": {
   "codemirror_mode": {
    "name": "ipython",
    "version": 3
   },
   "file_extension": ".py",
   "mimetype": "text/x-python",
   "name": "python",
   "nbconvert_exporter": "python",
   "pygments_lexer": "ipython3",
   "version": "3.13.5"
  }
 },
 "nbformat": 4,
 "nbformat_minor": 5
}
